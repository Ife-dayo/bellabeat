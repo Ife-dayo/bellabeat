{
 "cells": [
  {
   "cell_type": "markdown",
   "metadata": {},
   "source": [
    "## Bellabeat Marketing Analysis\n",
    "### by Ayilaran Ifedayo\n",
    "\n",
    "### Introduction\n",
    "Bellabeat is a high-tech manufacturer of health-focused products for women. They are a successful small company but they, but they have the potential to become a larger player in the global smart device market. In a bid to increase their marketing strategies, and recognize important trends in consumers' usage, data was gathered from 30 customers. As a consulting data analyst, my job is to load, clean and transform the data so I can perform analysis and extract useful insights using visualizations. \n",
    "These insights will be used to improve Bellabeat's marketing strategies. \n",
    "\n",
    "\n",
    "#### Preliminary Wrangling\n"
   ]
  },
  {
   "cell_type": "code",
   "execution_count": 1,
   "metadata": {},
   "outputs": [],
   "source": [
    "# import all packages and set plots to be embedded inline\n",
    "import numpy as np\n",
    "import pandas as pd\n",
    "import matplotlib.pyplot as plt\n",
    "import seaborn as sns\n",
    "import datetime\n",
    "sns.set_theme(style='ticks', palette='pastel')\n",
    "\n",
    "%matplotlib inline"
   ]
  },
  {
   "cell_type": "markdown",
   "metadata": {},
   "source": [
    "Load the necessary datasets. "
   ]
  },
  {
   "cell_type": "code",
   "execution_count": 2,
   "metadata": {},
   "outputs": [],
   "source": [
    "activity=pd.read_csv('dailyActivity_merged.csv')\n",
    "sleep=pd.read_csv('sleepDay_merged.csv')\n"
   ]
  },
  {
   "cell_type": "markdown",
   "metadata": {},
   "source": [
    "#### Let's check the activity data"
   ]
  },
  {
   "cell_type": "code",
   "execution_count": 3,
   "metadata": {},
   "outputs": [
    {
     "data": {
      "text/html": [
       "<div>\n",
       "<style scoped>\n",
       "    .dataframe tbody tr th:only-of-type {\n",
       "        vertical-align: middle;\n",
       "    }\n",
       "\n",
       "    .dataframe tbody tr th {\n",
       "        vertical-align: top;\n",
       "    }\n",
       "\n",
       "    .dataframe thead th {\n",
       "        text-align: right;\n",
       "    }\n",
       "</style>\n",
       "<table border=\"1\" class=\"dataframe\">\n",
       "  <thead>\n",
       "    <tr style=\"text-align: right;\">\n",
       "      <th></th>\n",
       "      <th>Id</th>\n",
       "      <th>ActivityDate</th>\n",
       "      <th>TotalSteps</th>\n",
       "      <th>TotalDistance</th>\n",
       "      <th>TrackerDistance</th>\n",
       "      <th>LoggedActivitiesDistance</th>\n",
       "      <th>VeryActiveDistance</th>\n",
       "      <th>ModeratelyActiveDistance</th>\n",
       "      <th>LightActiveDistance</th>\n",
       "      <th>SedentaryActiveDistance</th>\n",
       "      <th>VeryActiveMinutes</th>\n",
       "      <th>FairlyActiveMinutes</th>\n",
       "      <th>LightlyActiveMinutes</th>\n",
       "      <th>SedentaryMinutes</th>\n",
       "      <th>Calories</th>\n",
       "    </tr>\n",
       "  </thead>\n",
       "  <tbody>\n",
       "    <tr>\n",
       "      <th>0</th>\n",
       "      <td>1503960366</td>\n",
       "      <td>4/12/2016</td>\n",
       "      <td>13162</td>\n",
       "      <td>8.50</td>\n",
       "      <td>8.50</td>\n",
       "      <td>0.0</td>\n",
       "      <td>1.88</td>\n",
       "      <td>0.55</td>\n",
       "      <td>6.06</td>\n",
       "      <td>0.0</td>\n",
       "      <td>25</td>\n",
       "      <td>13</td>\n",
       "      <td>328</td>\n",
       "      <td>728</td>\n",
       "      <td>1985</td>\n",
       "    </tr>\n",
       "    <tr>\n",
       "      <th>1</th>\n",
       "      <td>1503960366</td>\n",
       "      <td>4/13/2016</td>\n",
       "      <td>10735</td>\n",
       "      <td>6.97</td>\n",
       "      <td>6.97</td>\n",
       "      <td>0.0</td>\n",
       "      <td>1.57</td>\n",
       "      <td>0.69</td>\n",
       "      <td>4.71</td>\n",
       "      <td>0.0</td>\n",
       "      <td>21</td>\n",
       "      <td>19</td>\n",
       "      <td>217</td>\n",
       "      <td>776</td>\n",
       "      <td>1797</td>\n",
       "    </tr>\n",
       "    <tr>\n",
       "      <th>2</th>\n",
       "      <td>1503960366</td>\n",
       "      <td>4/14/2016</td>\n",
       "      <td>10460</td>\n",
       "      <td>6.74</td>\n",
       "      <td>6.74</td>\n",
       "      <td>0.0</td>\n",
       "      <td>2.44</td>\n",
       "      <td>0.40</td>\n",
       "      <td>3.91</td>\n",
       "      <td>0.0</td>\n",
       "      <td>30</td>\n",
       "      <td>11</td>\n",
       "      <td>181</td>\n",
       "      <td>1218</td>\n",
       "      <td>1776</td>\n",
       "    </tr>\n",
       "    <tr>\n",
       "      <th>3</th>\n",
       "      <td>1503960366</td>\n",
       "      <td>4/15/2016</td>\n",
       "      <td>9762</td>\n",
       "      <td>6.28</td>\n",
       "      <td>6.28</td>\n",
       "      <td>0.0</td>\n",
       "      <td>2.14</td>\n",
       "      <td>1.26</td>\n",
       "      <td>2.83</td>\n",
       "      <td>0.0</td>\n",
       "      <td>29</td>\n",
       "      <td>34</td>\n",
       "      <td>209</td>\n",
       "      <td>726</td>\n",
       "      <td>1745</td>\n",
       "    </tr>\n",
       "    <tr>\n",
       "      <th>4</th>\n",
       "      <td>1503960366</td>\n",
       "      <td>4/16/2016</td>\n",
       "      <td>12669</td>\n",
       "      <td>8.16</td>\n",
       "      <td>8.16</td>\n",
       "      <td>0.0</td>\n",
       "      <td>2.71</td>\n",
       "      <td>0.41</td>\n",
       "      <td>5.04</td>\n",
       "      <td>0.0</td>\n",
       "      <td>36</td>\n",
       "      <td>10</td>\n",
       "      <td>221</td>\n",
       "      <td>773</td>\n",
       "      <td>1863</td>\n",
       "    </tr>\n",
       "  </tbody>\n",
       "</table>\n",
       "</div>"
      ],
      "text/plain": [
       "           Id ActivityDate  TotalSteps  TotalDistance  TrackerDistance  \\\n",
       "0  1503960366    4/12/2016       13162           8.50             8.50   \n",
       "1  1503960366    4/13/2016       10735           6.97             6.97   \n",
       "2  1503960366    4/14/2016       10460           6.74             6.74   \n",
       "3  1503960366    4/15/2016        9762           6.28             6.28   \n",
       "4  1503960366    4/16/2016       12669           8.16             8.16   \n",
       "\n",
       "   LoggedActivitiesDistance  VeryActiveDistance  ModeratelyActiveDistance  \\\n",
       "0                       0.0                1.88                      0.55   \n",
       "1                       0.0                1.57                      0.69   \n",
       "2                       0.0                2.44                      0.40   \n",
       "3                       0.0                2.14                      1.26   \n",
       "4                       0.0                2.71                      0.41   \n",
       "\n",
       "   LightActiveDistance  SedentaryActiveDistance  VeryActiveMinutes  \\\n",
       "0                 6.06                      0.0                 25   \n",
       "1                 4.71                      0.0                 21   \n",
       "2                 3.91                      0.0                 30   \n",
       "3                 2.83                      0.0                 29   \n",
       "4                 5.04                      0.0                 36   \n",
       "\n",
       "   FairlyActiveMinutes  LightlyActiveMinutes  SedentaryMinutes  Calories  \n",
       "0                   13                   328               728      1985  \n",
       "1                   19                   217               776      1797  \n",
       "2                   11                   181              1218      1776  \n",
       "3                   34                   209               726      1745  \n",
       "4                   10                   221               773      1863  "
      ]
     },
     "execution_count": 3,
     "metadata": {},
     "output_type": "execute_result"
    }
   ],
   "source": [
    "activity.head()\n"
   ]
  },
  {
   "cell_type": "code",
   "execution_count": 4,
   "metadata": {},
   "outputs": [
    {
     "name": "stdout",
     "output_type": "stream",
     "text": [
      "Id                            int64\n",
      "ActivityDate                 object\n",
      "TotalSteps                    int64\n",
      "TotalDistance               float64\n",
      "TrackerDistance             float64\n",
      "LoggedActivitiesDistance    float64\n",
      "VeryActiveDistance          float64\n",
      "ModeratelyActiveDistance    float64\n",
      "LightActiveDistance         float64\n",
      "SedentaryActiveDistance     float64\n",
      "VeryActiveMinutes             int64\n",
      "FairlyActiveMinutes           int64\n",
      "LightlyActiveMinutes          int64\n",
      "SedentaryMinutes              int64\n",
      "Calories                      int64\n",
      "dtype: object\n",
      "(940, 15)\n"
     ]
    }
   ],
   "source": [
    "print(activity.dtypes)\n",
    "print(activity.shape)"
   ]
  },
  {
   "cell_type": "code",
   "execution_count": 5,
   "metadata": {},
   "outputs": [
    {
     "data": {
      "text/plain": [
       "0"
      ]
     },
     "execution_count": 5,
     "metadata": {},
     "output_type": "execute_result"
    }
   ],
   "source": [
    "sum(activity.duplicated())"
   ]
  },
  {
   "cell_type": "markdown",
   "metadata": {},
   "source": [
    "Check for null values."
   ]
  },
  {
   "cell_type": "code",
   "execution_count": 6,
   "metadata": {},
   "outputs": [
    {
     "name": "stdout",
     "output_type": "stream",
     "text": [
      "Id                          0\n",
      "ActivityDate                0\n",
      "TotalSteps                  0\n",
      "TotalDistance               0\n",
      "TrackerDistance             0\n",
      "LoggedActivitiesDistance    0\n",
      "VeryActiveDistance          0\n",
      "ModeratelyActiveDistance    0\n",
      "LightActiveDistance         0\n",
      "SedentaryActiveDistance     0\n",
      "VeryActiveMinutes           0\n",
      "FairlyActiveMinutes         0\n",
      "LightlyActiveMinutes        0\n",
      "SedentaryMinutes            0\n",
      "Calories                    0\n",
      "dtype: int64\n"
     ]
    }
   ],
   "source": [
    "print(activity.isnull().sum())"
   ]
  },
  {
   "cell_type": "markdown",
   "metadata": {},
   "source": [
    "Check for duplicates."
   ]
  },
  {
   "cell_type": "code",
   "execution_count": 7,
   "metadata": {},
   "outputs": [
    {
     "name": "stdout",
     "output_type": "stream",
     "text": [
      "0\n"
     ]
    }
   ],
   "source": [
    "print(activity.duplicated().sum())"
   ]
  },
  {
   "cell_type": "markdown",
   "metadata": {},
   "source": [
    "### Data Cleaning"
   ]
  },
  {
   "cell_type": "markdown",
   "metadata": {},
   "source": [
    "#### The issues were found with the activity data:\n",
    "1.  The ActivityDate column is formatted wrongly; object instead of datetime. \n",
    "2.  No information on day of the week(this will be needed for further analyses).\n",
    "3.  There are some irrelevant columns.\n",
    "4.  Column headers do not follow naming conventions. \n",
    "5.  There should be a calculated column for total minutes."
   ]
  },
  {
   "cell_type": "markdown",
   "metadata": {},
   "source": [
    "##### Convert `ActivityDate` from object to datetime"
   ]
  },
  {
   "cell_type": "code",
   "execution_count": 8,
   "metadata": {},
   "outputs": [
    {
     "name": "stdout",
     "output_type": "stream",
     "text": [
      "<class 'pandas.core.frame.DataFrame'>\n",
      "RangeIndex: 940 entries, 0 to 939\n",
      "Data columns (total 15 columns):\n",
      " #   Column                    Non-Null Count  Dtype         \n",
      "---  ------                    --------------  -----         \n",
      " 0   Id                        940 non-null    int64         \n",
      " 1   ActivityDate              940 non-null    datetime64[ns]\n",
      " 2   TotalSteps                940 non-null    int64         \n",
      " 3   TotalDistance             940 non-null    float64       \n",
      " 4   TrackerDistance           940 non-null    float64       \n",
      " 5   LoggedActivitiesDistance  940 non-null    float64       \n",
      " 6   VeryActiveDistance        940 non-null    float64       \n",
      " 7   ModeratelyActiveDistance  940 non-null    float64       \n",
      " 8   LightActiveDistance       940 non-null    float64       \n",
      " 9   SedentaryActiveDistance   940 non-null    float64       \n",
      " 10  VeryActiveMinutes         940 non-null    int64         \n",
      " 11  FairlyActiveMinutes       940 non-null    int64         \n",
      " 12  LightlyActiveMinutes      940 non-null    int64         \n",
      " 13  SedentaryMinutes          940 non-null    int64         \n",
      " 14  Calories                  940 non-null    int64         \n",
      "dtypes: datetime64[ns](1), float64(7), int64(7)\n",
      "memory usage: 110.3 KB\n"
     ]
    },
    {
     "data": {
      "text/plain": [
       "0   2016-04-12\n",
       "1   2016-04-13\n",
       "2   2016-04-14\n",
       "Name: ActivityDate, dtype: datetime64[ns]"
      ]
     },
     "execution_count": 8,
     "metadata": {},
     "output_type": "execute_result"
    }
   ],
   "source": [
    "activity['ActivityDate'] = pd.to_datetime(activity['ActivityDate'], format=\"%m/%d/%Y\")\n",
    "activity.info()\n",
    "activity['ActivityDate'].head(3)"
   ]
  },
  {
   "cell_type": "markdown",
   "metadata": {},
   "source": [
    "##### Create new `Day of the Week` column"
   ]
  },
  {
   "cell_type": "code",
   "execution_count": 9,
   "metadata": {},
   "outputs": [
    {
     "data": {
      "text/plain": [
       "0      Tuesday\n",
       "1    Wednesday\n",
       "2     Thursday\n",
       "Name: DayOfTheWeek, dtype: object"
      ]
     },
     "execution_count": 9,
     "metadata": {},
     "output_type": "execute_result"
    }
   ],
   "source": [
    "activity['DayOfTheWeek']=activity['ActivityDate'].dt.day_name()\n",
    "\n",
    "activity['DayOfTheWeek'].head(3)"
   ]
  },
  {
   "cell_type": "markdown",
   "metadata": {},
   "source": [
    "##### Create `TotalMins` as a sum of `VeryActiveMinutes`, `FairlyActiveMinutes`, `LightlyActiveMinutes` and `SedentaryMinutes`              "
   ]
  },
  {
   "cell_type": "code",
   "execution_count": 10,
   "metadata": {},
   "outputs": [
    {
     "data": {
      "text/plain": [
       "0    1094\n",
       "1    1033\n",
       "2    1440\n",
       "Name: TotalMins, dtype: int64"
      ]
     },
     "execution_count": 10,
     "metadata": {},
     "output_type": "execute_result"
    }
   ],
   "source": [
    "activity['TotalMins']= activity['VeryActiveMinutes'] +activity['FairlyActiveMinutes']+activity['LightlyActiveMinutes']+activity['SedentaryMinutes']\n",
    "\n",
    "activity['TotalMins'].head(3)"
   ]
  },
  {
   "cell_type": "markdown",
   "metadata": {},
   "source": [
    "##### Convert `TotalMins` to hours in a new column `TotalHours`"
   ]
  },
  {
   "cell_type": "code",
   "execution_count": 11,
   "metadata": {},
   "outputs": [
    {
     "data": {
      "text/plain": [
       "0    18.0\n",
       "1    17.0\n",
       "2    24.0\n",
       "Name: TotalHours, dtype: float64"
      ]
     },
     "execution_count": 11,
     "metadata": {},
     "output_type": "execute_result"
    }
   ],
   "source": [
    "activity['TotalHours']= round(activity['TotalMins']/60)\n",
    "\n",
    "activity['TotalHours'].head(3)"
   ]
  },
  {
   "cell_type": "markdown",
   "metadata": {},
   "source": [
    "##### Rename the columns as lowercases according to naming convention"
   ]
  },
  {
   "cell_type": "code",
   "execution_count": 12,
   "metadata": {},
   "outputs": [],
   "source": [
    "activity.rename(columns=\n",
    "{'Id': 'id', 'ActivityDate':'date', 'TotalSteps': 'total_steps', 'TotalDistance': 'total_distance', 'TrackerDistance': 'tracker_distance',\n",
    " 'LoggedActivitiesDistance':  'logged_activities_distance', 'VeryActiveDistance': 'very_active_distance',\n",
    "       'ModeratelyActiveDistance':'moderately_active_distance', 'LightActiveDistance':'light_active_distance',\n",
    "       'SedentaryActiveDistance': 'sedentary_active_distance', 'VeryActiveMinutes': 'very_active_minutes', 'FairlyActiveMinutes': 'fairly_active_minutes',\n",
    "       'LightlyActiveMinutes':'lightly_active_minutes', 'SedentaryMinutes':'sedentary_minutes', 'Calories':'calories', 'DayOfTheWeek':'day_of_the_week',\n",
    "       'TotalMins':'total_mins', 'TotalHours':'total_hours'\n",
    "}, inplace=True)\n",
    "\n"
   ]
  },
  {
   "cell_type": "code",
   "execution_count": 13,
   "metadata": {},
   "outputs": [
    {
     "name": "stdout",
     "output_type": "stream",
     "text": [
      "Index(['id', 'date', 'total_steps', 'total_distance', 'tracker_distance',\n",
      "       'logged_activities_distance', 'very_active_distance',\n",
      "       'moderately_active_distance', 'light_active_distance',\n",
      "       'sedentary_active_distance', 'very_active_minutes',\n",
      "       'fairly_active_minutes', 'lightly_active_minutes', 'sedentary_minutes',\n",
      "       'calories', 'day_of_the_week', 'total_mins', 'total_hours'],\n",
      "      dtype='object')\n"
     ]
    }
   ],
   "source": [
    "print(activity.columns)"
   ]
  },
  {
   "cell_type": "markdown",
   "metadata": {},
   "source": [
    "##### Write a function to drop `tracker_distance` and `logged_activities_distance` as they are not needed."
   ]
  },
  {
   "cell_type": "code",
   "execution_count": 14,
   "metadata": {},
   "outputs": [],
   "source": [
    "def drop(col):\n",
    "    activity.drop(col, axis=1, inplace=True)"
   ]
  },
  {
   "cell_type": "code",
   "execution_count": 15,
   "metadata": {},
   "outputs": [
    {
     "name": "stdout",
     "output_type": "stream",
     "text": [
      "<class 'pandas.core.frame.DataFrame'>\n",
      "RangeIndex: 940 entries, 0 to 939\n",
      "Data columns (total 16 columns):\n",
      " #   Column                      Non-Null Count  Dtype         \n",
      "---  ------                      --------------  -----         \n",
      " 0   id                          940 non-null    int64         \n",
      " 1   date                        940 non-null    datetime64[ns]\n",
      " 2   total_steps                 940 non-null    int64         \n",
      " 3   total_distance              940 non-null    float64       \n",
      " 4   very_active_distance        940 non-null    float64       \n",
      " 5   moderately_active_distance  940 non-null    float64       \n",
      " 6   light_active_distance       940 non-null    float64       \n",
      " 7   sedentary_active_distance   940 non-null    float64       \n",
      " 8   very_active_minutes         940 non-null    int64         \n",
      " 9   fairly_active_minutes       940 non-null    int64         \n",
      " 10  lightly_active_minutes      940 non-null    int64         \n",
      " 11  sedentary_minutes           940 non-null    int64         \n",
      " 12  calories                    940 non-null    int64         \n",
      " 13  day_of_the_week             940 non-null    object        \n",
      " 14  total_mins                  940 non-null    int64         \n",
      " 15  total_hours                 940 non-null    float64       \n",
      "dtypes: datetime64[ns](1), float64(6), int64(8), object(1)\n",
      "memory usage: 117.6+ KB\n",
      "None\n"
     ]
    }
   ],
   "source": [
    "drop('tracker_distance')\n",
    "drop('logged_activities_distance')\n",
    "\n",
    "print(activity.info())"
   ]
  },
  {
   "cell_type": "markdown",
   "metadata": {},
   "source": [
    "##### The columns are not arranged as I want them. I'll rearrange the columns. "
   ]
  },
  {
   "cell_type": "code",
   "execution_count": 16,
   "metadata": {},
   "outputs": [
    {
     "data": {
      "text/html": [
       "<div>\n",
       "<style scoped>\n",
       "    .dataframe tbody tr th:only-of-type {\n",
       "        vertical-align: middle;\n",
       "    }\n",
       "\n",
       "    .dataframe tbody tr th {\n",
       "        vertical-align: top;\n",
       "    }\n",
       "\n",
       "    .dataframe thead th {\n",
       "        text-align: right;\n",
       "    }\n",
       "</style>\n",
       "<table border=\"1\" class=\"dataframe\">\n",
       "  <thead>\n",
       "    <tr style=\"text-align: right;\">\n",
       "      <th></th>\n",
       "      <th>id</th>\n",
       "      <th>date</th>\n",
       "      <th>day_of_the_week</th>\n",
       "      <th>total_steps</th>\n",
       "      <th>total_distance</th>\n",
       "      <th>very_active_distance</th>\n",
       "      <th>moderately_active_distance</th>\n",
       "      <th>light_active_distance</th>\n",
       "      <th>sedentary_active_distance</th>\n",
       "      <th>very_active_minutes</th>\n",
       "      <th>fairly_active_minutes</th>\n",
       "      <th>lightly_active_minutes</th>\n",
       "      <th>sedentary_minutes</th>\n",
       "      <th>total_mins</th>\n",
       "      <th>total_hours</th>\n",
       "      <th>calories</th>\n",
       "    </tr>\n",
       "  </thead>\n",
       "  <tbody>\n",
       "    <tr>\n",
       "      <th>0</th>\n",
       "      <td>1503960366</td>\n",
       "      <td>2016-04-12</td>\n",
       "      <td>Tuesday</td>\n",
       "      <td>13162</td>\n",
       "      <td>8.500000</td>\n",
       "      <td>1.88</td>\n",
       "      <td>0.55</td>\n",
       "      <td>6.06</td>\n",
       "      <td>0.00</td>\n",
       "      <td>25</td>\n",
       "      <td>13</td>\n",
       "      <td>328</td>\n",
       "      <td>728</td>\n",
       "      <td>1094</td>\n",
       "      <td>18.0</td>\n",
       "      <td>1985</td>\n",
       "    </tr>\n",
       "    <tr>\n",
       "      <th>1</th>\n",
       "      <td>1503960366</td>\n",
       "      <td>2016-04-13</td>\n",
       "      <td>Wednesday</td>\n",
       "      <td>10735</td>\n",
       "      <td>6.970000</td>\n",
       "      <td>1.57</td>\n",
       "      <td>0.69</td>\n",
       "      <td>4.71</td>\n",
       "      <td>0.00</td>\n",
       "      <td>21</td>\n",
       "      <td>19</td>\n",
       "      <td>217</td>\n",
       "      <td>776</td>\n",
       "      <td>1033</td>\n",
       "      <td>17.0</td>\n",
       "      <td>1797</td>\n",
       "    </tr>\n",
       "    <tr>\n",
       "      <th>2</th>\n",
       "      <td>1503960366</td>\n",
       "      <td>2016-04-14</td>\n",
       "      <td>Thursday</td>\n",
       "      <td>10460</td>\n",
       "      <td>6.740000</td>\n",
       "      <td>2.44</td>\n",
       "      <td>0.40</td>\n",
       "      <td>3.91</td>\n",
       "      <td>0.00</td>\n",
       "      <td>30</td>\n",
       "      <td>11</td>\n",
       "      <td>181</td>\n",
       "      <td>1218</td>\n",
       "      <td>1440</td>\n",
       "      <td>24.0</td>\n",
       "      <td>1776</td>\n",
       "    </tr>\n",
       "    <tr>\n",
       "      <th>3</th>\n",
       "      <td>1503960366</td>\n",
       "      <td>2016-04-15</td>\n",
       "      <td>Friday</td>\n",
       "      <td>9762</td>\n",
       "      <td>6.280000</td>\n",
       "      <td>2.14</td>\n",
       "      <td>1.26</td>\n",
       "      <td>2.83</td>\n",
       "      <td>0.00</td>\n",
       "      <td>29</td>\n",
       "      <td>34</td>\n",
       "      <td>209</td>\n",
       "      <td>726</td>\n",
       "      <td>998</td>\n",
       "      <td>17.0</td>\n",
       "      <td>1745</td>\n",
       "    </tr>\n",
       "    <tr>\n",
       "      <th>4</th>\n",
       "      <td>1503960366</td>\n",
       "      <td>2016-04-16</td>\n",
       "      <td>Saturday</td>\n",
       "      <td>12669</td>\n",
       "      <td>8.160000</td>\n",
       "      <td>2.71</td>\n",
       "      <td>0.41</td>\n",
       "      <td>5.04</td>\n",
       "      <td>0.00</td>\n",
       "      <td>36</td>\n",
       "      <td>10</td>\n",
       "      <td>221</td>\n",
       "      <td>773</td>\n",
       "      <td>1040</td>\n",
       "      <td>17.0</td>\n",
       "      <td>1863</td>\n",
       "    </tr>\n",
       "    <tr>\n",
       "      <th>...</th>\n",
       "      <td>...</td>\n",
       "      <td>...</td>\n",
       "      <td>...</td>\n",
       "      <td>...</td>\n",
       "      <td>...</td>\n",
       "      <td>...</td>\n",
       "      <td>...</td>\n",
       "      <td>...</td>\n",
       "      <td>...</td>\n",
       "      <td>...</td>\n",
       "      <td>...</td>\n",
       "      <td>...</td>\n",
       "      <td>...</td>\n",
       "      <td>...</td>\n",
       "      <td>...</td>\n",
       "      <td>...</td>\n",
       "    </tr>\n",
       "    <tr>\n",
       "      <th>935</th>\n",
       "      <td>8877689391</td>\n",
       "      <td>2016-05-08</td>\n",
       "      <td>Sunday</td>\n",
       "      <td>10686</td>\n",
       "      <td>8.110000</td>\n",
       "      <td>1.08</td>\n",
       "      <td>0.20</td>\n",
       "      <td>6.80</td>\n",
       "      <td>0.00</td>\n",
       "      <td>17</td>\n",
       "      <td>4</td>\n",
       "      <td>245</td>\n",
       "      <td>1174</td>\n",
       "      <td>1440</td>\n",
       "      <td>24.0</td>\n",
       "      <td>2847</td>\n",
       "    </tr>\n",
       "    <tr>\n",
       "      <th>936</th>\n",
       "      <td>8877689391</td>\n",
       "      <td>2016-05-09</td>\n",
       "      <td>Monday</td>\n",
       "      <td>20226</td>\n",
       "      <td>18.250000</td>\n",
       "      <td>11.10</td>\n",
       "      <td>0.80</td>\n",
       "      <td>6.24</td>\n",
       "      <td>0.05</td>\n",
       "      <td>73</td>\n",
       "      <td>19</td>\n",
       "      <td>217</td>\n",
       "      <td>1131</td>\n",
       "      <td>1440</td>\n",
       "      <td>24.0</td>\n",
       "      <td>3710</td>\n",
       "    </tr>\n",
       "    <tr>\n",
       "      <th>937</th>\n",
       "      <td>8877689391</td>\n",
       "      <td>2016-05-10</td>\n",
       "      <td>Tuesday</td>\n",
       "      <td>10733</td>\n",
       "      <td>8.150000</td>\n",
       "      <td>1.35</td>\n",
       "      <td>0.46</td>\n",
       "      <td>6.28</td>\n",
       "      <td>0.00</td>\n",
       "      <td>18</td>\n",
       "      <td>11</td>\n",
       "      <td>224</td>\n",
       "      <td>1187</td>\n",
       "      <td>1440</td>\n",
       "      <td>24.0</td>\n",
       "      <td>2832</td>\n",
       "    </tr>\n",
       "    <tr>\n",
       "      <th>938</th>\n",
       "      <td>8877689391</td>\n",
       "      <td>2016-05-11</td>\n",
       "      <td>Wednesday</td>\n",
       "      <td>21420</td>\n",
       "      <td>19.559999</td>\n",
       "      <td>13.22</td>\n",
       "      <td>0.41</td>\n",
       "      <td>5.89</td>\n",
       "      <td>0.00</td>\n",
       "      <td>88</td>\n",
       "      <td>12</td>\n",
       "      <td>213</td>\n",
       "      <td>1127</td>\n",
       "      <td>1440</td>\n",
       "      <td>24.0</td>\n",
       "      <td>3832</td>\n",
       "    </tr>\n",
       "    <tr>\n",
       "      <th>939</th>\n",
       "      <td>8877689391</td>\n",
       "      <td>2016-05-12</td>\n",
       "      <td>Thursday</td>\n",
       "      <td>8064</td>\n",
       "      <td>6.120000</td>\n",
       "      <td>1.82</td>\n",
       "      <td>0.04</td>\n",
       "      <td>4.25</td>\n",
       "      <td>0.00</td>\n",
       "      <td>23</td>\n",
       "      <td>1</td>\n",
       "      <td>137</td>\n",
       "      <td>770</td>\n",
       "      <td>931</td>\n",
       "      <td>16.0</td>\n",
       "      <td>1849</td>\n",
       "    </tr>\n",
       "  </tbody>\n",
       "</table>\n",
       "<p>940 rows × 16 columns</p>\n",
       "</div>"
      ],
      "text/plain": [
       "             id       date day_of_the_week  total_steps  total_distance  \\\n",
       "0    1503960366 2016-04-12         Tuesday        13162        8.500000   \n",
       "1    1503960366 2016-04-13       Wednesday        10735        6.970000   \n",
       "2    1503960366 2016-04-14        Thursday        10460        6.740000   \n",
       "3    1503960366 2016-04-15          Friday         9762        6.280000   \n",
       "4    1503960366 2016-04-16        Saturday        12669        8.160000   \n",
       "..          ...        ...             ...          ...             ...   \n",
       "935  8877689391 2016-05-08          Sunday        10686        8.110000   \n",
       "936  8877689391 2016-05-09          Monday        20226       18.250000   \n",
       "937  8877689391 2016-05-10         Tuesday        10733        8.150000   \n",
       "938  8877689391 2016-05-11       Wednesday        21420       19.559999   \n",
       "939  8877689391 2016-05-12        Thursday         8064        6.120000   \n",
       "\n",
       "     very_active_distance  moderately_active_distance  light_active_distance  \\\n",
       "0                    1.88                        0.55                   6.06   \n",
       "1                    1.57                        0.69                   4.71   \n",
       "2                    2.44                        0.40                   3.91   \n",
       "3                    2.14                        1.26                   2.83   \n",
       "4                    2.71                        0.41                   5.04   \n",
       "..                    ...                         ...                    ...   \n",
       "935                  1.08                        0.20                   6.80   \n",
       "936                 11.10                        0.80                   6.24   \n",
       "937                  1.35                        0.46                   6.28   \n",
       "938                 13.22                        0.41                   5.89   \n",
       "939                  1.82                        0.04                   4.25   \n",
       "\n",
       "     sedentary_active_distance  very_active_minutes  fairly_active_minutes  \\\n",
       "0                         0.00                   25                     13   \n",
       "1                         0.00                   21                     19   \n",
       "2                         0.00                   30                     11   \n",
       "3                         0.00                   29                     34   \n",
       "4                         0.00                   36                     10   \n",
       "..                         ...                  ...                    ...   \n",
       "935                       0.00                   17                      4   \n",
       "936                       0.05                   73                     19   \n",
       "937                       0.00                   18                     11   \n",
       "938                       0.00                   88                     12   \n",
       "939                       0.00                   23                      1   \n",
       "\n",
       "     lightly_active_minutes  sedentary_minutes  total_mins  total_hours  \\\n",
       "0                       328                728        1094         18.0   \n",
       "1                       217                776        1033         17.0   \n",
       "2                       181               1218        1440         24.0   \n",
       "3                       209                726         998         17.0   \n",
       "4                       221                773        1040         17.0   \n",
       "..                      ...                ...         ...          ...   \n",
       "935                     245               1174        1440         24.0   \n",
       "936                     217               1131        1440         24.0   \n",
       "937                     224               1187        1440         24.0   \n",
       "938                     213               1127        1440         24.0   \n",
       "939                     137                770         931         16.0   \n",
       "\n",
       "     calories  \n",
       "0        1985  \n",
       "1        1797  \n",
       "2        1776  \n",
       "3        1745  \n",
       "4        1863  \n",
       "..        ...  \n",
       "935      2847  \n",
       "936      3710  \n",
       "937      2832  \n",
       "938      3832  \n",
       "939      1849  \n",
       "\n",
       "[940 rows x 16 columns]"
      ]
     },
     "execution_count": 16,
     "metadata": {},
     "output_type": "execute_result"
    }
   ],
   "source": [
    "column_titles=['id', 'date', 'day_of_the_week', 'total_steps', 'total_distance',\n",
    "       'very_active_distance', 'moderately_active_distance',\n",
    "       'light_active_distance', 'sedentary_active_distance',\n",
    "       'very_active_minutes', 'fairly_active_minutes',\n",
    "       'lightly_active_minutes', 'sedentary_minutes', 'total_mins', 'total_hours', \n",
    "       'calories']\n",
    "       \n",
    "       \n",
    "activity.reindex(columns= column_titles)\n",
    "\n"
   ]
  },
  {
   "cell_type": "markdown",
   "metadata": {},
   "source": [
    "#### Lets check the sleep data"
   ]
  },
  {
   "cell_type": "code",
   "execution_count": 17,
   "metadata": {},
   "outputs": [
    {
     "data": {
      "text/html": [
       "<div>\n",
       "<style scoped>\n",
       "    .dataframe tbody tr th:only-of-type {\n",
       "        vertical-align: middle;\n",
       "    }\n",
       "\n",
       "    .dataframe tbody tr th {\n",
       "        vertical-align: top;\n",
       "    }\n",
       "\n",
       "    .dataframe thead th {\n",
       "        text-align: right;\n",
       "    }\n",
       "</style>\n",
       "<table border=\"1\" class=\"dataframe\">\n",
       "  <thead>\n",
       "    <tr style=\"text-align: right;\">\n",
       "      <th></th>\n",
       "      <th>Id</th>\n",
       "      <th>SleepDay</th>\n",
       "      <th>TotalSleepRecords</th>\n",
       "      <th>TotalMinutesAsleep</th>\n",
       "      <th>TotalTimeInBed</th>\n",
       "    </tr>\n",
       "  </thead>\n",
       "  <tbody>\n",
       "    <tr>\n",
       "      <th>7</th>\n",
       "      <td>1503960366</td>\n",
       "      <td>4/21/2016 12:00:00 AM</td>\n",
       "      <td>1</td>\n",
       "      <td>325</td>\n",
       "      <td>364</td>\n",
       "    </tr>\n",
       "    <tr>\n",
       "      <th>242</th>\n",
       "      <td>5553957443</td>\n",
       "      <td>4/26/2016 12:00:00 AM</td>\n",
       "      <td>1</td>\n",
       "      <td>412</td>\n",
       "      <td>453</td>\n",
       "    </tr>\n",
       "    <tr>\n",
       "      <th>273</th>\n",
       "      <td>5577150313</td>\n",
       "      <td>4/26/2016 12:00:00 AM</td>\n",
       "      <td>1</td>\n",
       "      <td>354</td>\n",
       "      <td>377</td>\n",
       "    </tr>\n",
       "    <tr>\n",
       "      <th>334</th>\n",
       "      <td>6962181067</td>\n",
       "      <td>5/10/2016 12:00:00 AM</td>\n",
       "      <td>1</td>\n",
       "      <td>469</td>\n",
       "      <td>481</td>\n",
       "    </tr>\n",
       "    <tr>\n",
       "      <th>288</th>\n",
       "      <td>6117666160</td>\n",
       "      <td>4/19/2016 12:00:00 AM</td>\n",
       "      <td>1</td>\n",
       "      <td>465</td>\n",
       "      <td>492</td>\n",
       "    </tr>\n",
       "  </tbody>\n",
       "</table>\n",
       "</div>"
      ],
      "text/plain": [
       "             Id               SleepDay  TotalSleepRecords  TotalMinutesAsleep  \\\n",
       "7    1503960366  4/21/2016 12:00:00 AM                  1                 325   \n",
       "242  5553957443  4/26/2016 12:00:00 AM                  1                 412   \n",
       "273  5577150313  4/26/2016 12:00:00 AM                  1                 354   \n",
       "334  6962181067  5/10/2016 12:00:00 AM                  1                 469   \n",
       "288  6117666160  4/19/2016 12:00:00 AM                  1                 465   \n",
       "\n",
       "     TotalTimeInBed  \n",
       "7               364  \n",
       "242             453  \n",
       "273             377  \n",
       "334             481  \n",
       "288             492  "
      ]
     },
     "execution_count": 17,
     "metadata": {},
     "output_type": "execute_result"
    }
   ],
   "source": [
    "sleep.sample(5)"
   ]
  },
  {
   "cell_type": "code",
   "execution_count": 18,
   "metadata": {},
   "outputs": [
    {
     "name": "stdout",
     "output_type": "stream",
     "text": [
      "3\n"
     ]
    }
   ],
   "source": [
    "print(sleep.duplicated().sum())"
   ]
  },
  {
   "cell_type": "code",
   "execution_count": 19,
   "metadata": {},
   "outputs": [
    {
     "name": "stdout",
     "output_type": "stream",
     "text": [
      "Id                    0\n",
      "SleepDay              0\n",
      "TotalSleepRecords     0\n",
      "TotalMinutesAsleep    0\n",
      "TotalTimeInBed        0\n",
      "dtype: int64\n"
     ]
    }
   ],
   "source": [
    "print(sleep.isna().sum())"
   ]
  },
  {
   "cell_type": "code",
   "execution_count": 20,
   "metadata": {},
   "outputs": [
    {
     "name": "stdout",
     "output_type": "stream",
     "text": [
      "<class 'pandas.core.frame.DataFrame'>\n",
      "RangeIndex: 413 entries, 0 to 412\n",
      "Data columns (total 5 columns):\n",
      " #   Column              Non-Null Count  Dtype \n",
      "---  ------              --------------  ----- \n",
      " 0   Id                  413 non-null    int64 \n",
      " 1   SleepDay            413 non-null    object\n",
      " 2   TotalSleepRecords   413 non-null    int64 \n",
      " 3   TotalMinutesAsleep  413 non-null    int64 \n",
      " 4   TotalTimeInBed      413 non-null    int64 \n",
      "dtypes: int64(4), object(1)\n",
      "memory usage: 16.3+ KB\n"
     ]
    }
   ],
   "source": [
    "sleep.info()"
   ]
  },
  {
   "cell_type": "markdown",
   "metadata": {},
   "source": [
    "### Data Cleaning"
   ]
  },
  {
   "cell_type": "markdown",
   "metadata": {},
   "source": [
    "##### The issues were found with the sleep data:\n",
    "1. The `SleepDay` column is wrongly formatted; object instead of datetime. \n",
    "2. There are some duplicate records in the data.\n",
    "3. There should be a day column for further analyses. \n",
    "4. Column headers do not follow naming conventions. "
   ]
  },
  {
   "cell_type": "markdown",
   "metadata": {},
   "source": [
    "##### Convert `SleepDay` from object to datetime"
   ]
  },
  {
   "cell_type": "code",
   "execution_count": 21,
   "metadata": {},
   "outputs": [
    {
     "name": "stdout",
     "output_type": "stream",
     "text": [
      "<class 'pandas.core.frame.DataFrame'>\n",
      "RangeIndex: 413 entries, 0 to 412\n",
      "Data columns (total 5 columns):\n",
      " #   Column              Non-Null Count  Dtype         \n",
      "---  ------              --------------  -----         \n",
      " 0   Id                  413 non-null    int64         \n",
      " 1   SleepDay            413 non-null    datetime64[ns]\n",
      " 2   TotalSleepRecords   413 non-null    int64         \n",
      " 3   TotalMinutesAsleep  413 non-null    int64         \n",
      " 4   TotalTimeInBed      413 non-null    int64         \n",
      "dtypes: datetime64[ns](1), int64(4)\n",
      "memory usage: 16.3 KB\n"
     ]
    },
    {
     "data": {
      "text/plain": [
       "0   2016-04-12\n",
       "1   2016-04-13\n",
       "2   2016-04-15\n",
       "Name: SleepDay, dtype: datetime64[ns]"
      ]
     },
     "execution_count": 21,
     "metadata": {},
     "output_type": "execute_result"
    }
   ],
   "source": [
    "#trim spaces after the first nine strings to avoid the error that kept popping up when changing data type\n",
    "sleep['SleepDay'] = sleep['SleepDay'].str.slice(0,9).str.replace(' ','')\n",
    "sleep['SleepDay'] = pd.to_datetime(sleep['SleepDay'], format=\"%m/%d/%Y\")\n",
    "sleep.info()\n",
    "sleep['SleepDay'].head(3)"
   ]
  },
  {
   "cell_type": "markdown",
   "metadata": {},
   "source": [
    "##### Create new `sleep_day` column"
   ]
  },
  {
   "cell_type": "code",
   "execution_count": 22,
   "metadata": {},
   "outputs": [
    {
     "data": {
      "text/plain": [
       "0      Tuesday\n",
       "1    Wednesday\n",
       "2       Friday\n",
       "Name: sleep_day, dtype: object"
      ]
     },
     "execution_count": 22,
     "metadata": {},
     "output_type": "execute_result"
    }
   ],
   "source": [
    "sleep['sleep_day']=sleep['SleepDay'].dt.day_name()\n",
    "\n",
    "sleep['sleep_day'].head(3)"
   ]
  },
  {
   "cell_type": "markdown",
   "metadata": {},
   "source": [
    "##### Drop duplicates."
   ]
  },
  {
   "cell_type": "code",
   "execution_count": 23,
   "metadata": {},
   "outputs": [],
   "source": [
    "sleep = sleep.drop_duplicates(keep='first')"
   ]
  },
  {
   "cell_type": "markdown",
   "metadata": {},
   "source": [
    "##### Create a new column that converts TotalMinutesAsleep to hours."
   ]
  },
  {
   "cell_type": "code",
   "execution_count": 24,
   "metadata": {},
   "outputs": [
    {
     "data": {
      "text/plain": [
       "0    5.0\n",
       "1    6.0\n",
       "2    7.0\n",
       "Name: total_sleep_hours, dtype: float64"
      ]
     },
     "execution_count": 24,
     "metadata": {},
     "output_type": "execute_result"
    }
   ],
   "source": [
    "sleep['total_sleep_hours']= round(sleep['TotalMinutesAsleep']/60)\n",
    "\n",
    "sleep.total_sleep_hours.head(3)"
   ]
  },
  {
   "cell_type": "markdown",
   "metadata": {},
   "source": [
    "##### Rename the columns as lowercases according to naming convention."
   ]
  },
  {
   "cell_type": "code",
   "execution_count": 25,
   "metadata": {},
   "outputs": [
    {
     "name": "stdout",
     "output_type": "stream",
     "text": [
      "Index(['id', 'sleep_date', 'total_sleep_records', 'total_minutes_asleep',\n",
      "       'total_time_in_bed', 'sleep_day', 'total_sleep_hours'],\n",
      "      dtype='object')\n"
     ]
    }
   ],
   "source": [
    "sleep.rename(columns=\n",
    "{'Id': 'id', 'SleepDay':'sleep_date', 'TotalSleepRecords': 'total_sleep_records', \n",
    "'TotalMinutesAsleep': 'total_minutes_asleep', 'TotalTimeInBed': 'total_time_in_bed',\n",
    "}, inplace=True)\n",
    "\n",
    "print(sleep.columns)"
   ]
  },
  {
   "cell_type": "markdown",
   "metadata": {},
   "source": [
    "### That's it! We are done with the data wrangling phase and we can move on to exploration. If we face cleanliness issues later, we will address them. "
   ]
  },
  {
   "cell_type": "markdown",
   "metadata": {},
   "source": [
    "So far, the datasets have been loaded and cleaned. The activity data has 15 columns with 940 rows and the sleep data has 7 columns and 410 rows. Moving forward, I would like to test these features to answer questions like:\n",
    "- How does activity affect calories?\n",
    "- How does sleep affect calories?\n",
    "- Are users active or sedentary?\n",
    "- Is actvity more intense on some days?\n",
    "\n",
    "Some features in the datasets which will be helpful in answering these questions include:\n",
    "\n",
    "- Total Distance\n",
    "- Day of the Week\n",
    "- Total Minutes \n",
    "- Total Sleep Hours\n",
    "- Calories\n",
    "\n",
    "I hope to extract more questions and insights in order to provide a solution for the business. \n"
   ]
  },
  {
   "cell_type": "markdown",
   "metadata": {},
   "source": [
    "#### Daily activity and sleep average statistics"
   ]
  },
  {
   "cell_type": "code",
   "execution_count": 26,
   "metadata": {},
   "outputs": [
    {
     "data": {
      "text/html": [
       "<div>\n",
       "<style scoped>\n",
       "    .dataframe tbody tr th:only-of-type {\n",
       "        vertical-align: middle;\n",
       "    }\n",
       "\n",
       "    .dataframe tbody tr th {\n",
       "        vertical-align: top;\n",
       "    }\n",
       "\n",
       "    .dataframe thead th {\n",
       "        text-align: right;\n",
       "    }\n",
       "</style>\n",
       "<table border=\"1\" class=\"dataframe\">\n",
       "  <thead>\n",
       "    <tr style=\"text-align: right;\">\n",
       "      <th></th>\n",
       "      <th>id</th>\n",
       "      <th>total_steps</th>\n",
       "      <th>total_distance</th>\n",
       "      <th>very_active_distance</th>\n",
       "      <th>moderately_active_distance</th>\n",
       "      <th>light_active_distance</th>\n",
       "      <th>sedentary_active_distance</th>\n",
       "      <th>very_active_minutes</th>\n",
       "      <th>fairly_active_minutes</th>\n",
       "      <th>lightly_active_minutes</th>\n",
       "      <th>sedentary_minutes</th>\n",
       "      <th>calories</th>\n",
       "      <th>total_mins</th>\n",
       "      <th>total_hours</th>\n",
       "    </tr>\n",
       "  </thead>\n",
       "  <tbody>\n",
       "    <tr>\n",
       "      <th>count</th>\n",
       "      <td>9.400000e+02</td>\n",
       "      <td>940.000000</td>\n",
       "      <td>940.000000</td>\n",
       "      <td>940.000000</td>\n",
       "      <td>940.000000</td>\n",
       "      <td>940.000000</td>\n",
       "      <td>940.000000</td>\n",
       "      <td>940.000000</td>\n",
       "      <td>940.000000</td>\n",
       "      <td>940.000000</td>\n",
       "      <td>940.000000</td>\n",
       "      <td>940.000000</td>\n",
       "      <td>940.000000</td>\n",
       "      <td>940.000000</td>\n",
       "    </tr>\n",
       "    <tr>\n",
       "      <th>mean</th>\n",
       "      <td>4.855407e+09</td>\n",
       "      <td>7637.910638</td>\n",
       "      <td>5.489702</td>\n",
       "      <td>1.502681</td>\n",
       "      <td>0.567543</td>\n",
       "      <td>3.340819</td>\n",
       "      <td>0.001606</td>\n",
       "      <td>21.164894</td>\n",
       "      <td>13.564894</td>\n",
       "      <td>192.812766</td>\n",
       "      <td>991.210638</td>\n",
       "      <td>2303.609574</td>\n",
       "      <td>1218.753191</td>\n",
       "      <td>20.313830</td>\n",
       "    </tr>\n",
       "    <tr>\n",
       "      <th>std</th>\n",
       "      <td>2.424805e+09</td>\n",
       "      <td>5087.150742</td>\n",
       "      <td>3.924606</td>\n",
       "      <td>2.658941</td>\n",
       "      <td>0.883580</td>\n",
       "      <td>2.040655</td>\n",
       "      <td>0.007346</td>\n",
       "      <td>32.844803</td>\n",
       "      <td>19.987404</td>\n",
       "      <td>109.174700</td>\n",
       "      <td>301.267437</td>\n",
       "      <td>718.166862</td>\n",
       "      <td>265.931767</td>\n",
       "      <td>4.437283</td>\n",
       "    </tr>\n",
       "    <tr>\n",
       "      <th>min</th>\n",
       "      <td>1.503960e+09</td>\n",
       "      <td>0.000000</td>\n",
       "      <td>0.000000</td>\n",
       "      <td>0.000000</td>\n",
       "      <td>0.000000</td>\n",
       "      <td>0.000000</td>\n",
       "      <td>0.000000</td>\n",
       "      <td>0.000000</td>\n",
       "      <td>0.000000</td>\n",
       "      <td>0.000000</td>\n",
       "      <td>0.000000</td>\n",
       "      <td>0.000000</td>\n",
       "      <td>2.000000</td>\n",
       "      <td>0.000000</td>\n",
       "    </tr>\n",
       "    <tr>\n",
       "      <th>25%</th>\n",
       "      <td>2.320127e+09</td>\n",
       "      <td>3789.750000</td>\n",
       "      <td>2.620000</td>\n",
       "      <td>0.000000</td>\n",
       "      <td>0.000000</td>\n",
       "      <td>1.945000</td>\n",
       "      <td>0.000000</td>\n",
       "      <td>0.000000</td>\n",
       "      <td>0.000000</td>\n",
       "      <td>127.000000</td>\n",
       "      <td>729.750000</td>\n",
       "      <td>1828.500000</td>\n",
       "      <td>989.750000</td>\n",
       "      <td>16.000000</td>\n",
       "    </tr>\n",
       "    <tr>\n",
       "      <th>50%</th>\n",
       "      <td>4.445115e+09</td>\n",
       "      <td>7405.500000</td>\n",
       "      <td>5.245000</td>\n",
       "      <td>0.210000</td>\n",
       "      <td>0.240000</td>\n",
       "      <td>3.365000</td>\n",
       "      <td>0.000000</td>\n",
       "      <td>4.000000</td>\n",
       "      <td>6.000000</td>\n",
       "      <td>199.000000</td>\n",
       "      <td>1057.500000</td>\n",
       "      <td>2134.000000</td>\n",
       "      <td>1440.000000</td>\n",
       "      <td>24.000000</td>\n",
       "    </tr>\n",
       "    <tr>\n",
       "      <th>75%</th>\n",
       "      <td>6.962181e+09</td>\n",
       "      <td>10727.000000</td>\n",
       "      <td>7.712500</td>\n",
       "      <td>2.052500</td>\n",
       "      <td>0.800000</td>\n",
       "      <td>4.782500</td>\n",
       "      <td>0.000000</td>\n",
       "      <td>32.000000</td>\n",
       "      <td>19.000000</td>\n",
       "      <td>264.000000</td>\n",
       "      <td>1229.500000</td>\n",
       "      <td>2793.250000</td>\n",
       "      <td>1440.000000</td>\n",
       "      <td>24.000000</td>\n",
       "    </tr>\n",
       "    <tr>\n",
       "      <th>max</th>\n",
       "      <td>8.877689e+09</td>\n",
       "      <td>36019.000000</td>\n",
       "      <td>28.030001</td>\n",
       "      <td>21.920000</td>\n",
       "      <td>6.480000</td>\n",
       "      <td>10.710000</td>\n",
       "      <td>0.110000</td>\n",
       "      <td>210.000000</td>\n",
       "      <td>143.000000</td>\n",
       "      <td>518.000000</td>\n",
       "      <td>1440.000000</td>\n",
       "      <td>4900.000000</td>\n",
       "      <td>1440.000000</td>\n",
       "      <td>24.000000</td>\n",
       "    </tr>\n",
       "  </tbody>\n",
       "</table>\n",
       "</div>"
      ],
      "text/plain": [
       "                 id   total_steps  total_distance  very_active_distance  \\\n",
       "count  9.400000e+02    940.000000      940.000000            940.000000   \n",
       "mean   4.855407e+09   7637.910638        5.489702              1.502681   \n",
       "std    2.424805e+09   5087.150742        3.924606              2.658941   \n",
       "min    1.503960e+09      0.000000        0.000000              0.000000   \n",
       "25%    2.320127e+09   3789.750000        2.620000              0.000000   \n",
       "50%    4.445115e+09   7405.500000        5.245000              0.210000   \n",
       "75%    6.962181e+09  10727.000000        7.712500              2.052500   \n",
       "max    8.877689e+09  36019.000000       28.030001             21.920000   \n",
       "\n",
       "       moderately_active_distance  light_active_distance  \\\n",
       "count                  940.000000             940.000000   \n",
       "mean                     0.567543               3.340819   \n",
       "std                      0.883580               2.040655   \n",
       "min                      0.000000               0.000000   \n",
       "25%                      0.000000               1.945000   \n",
       "50%                      0.240000               3.365000   \n",
       "75%                      0.800000               4.782500   \n",
       "max                      6.480000              10.710000   \n",
       "\n",
       "       sedentary_active_distance  very_active_minutes  fairly_active_minutes  \\\n",
       "count                 940.000000           940.000000             940.000000   \n",
       "mean                    0.001606            21.164894              13.564894   \n",
       "std                     0.007346            32.844803              19.987404   \n",
       "min                     0.000000             0.000000               0.000000   \n",
       "25%                     0.000000             0.000000               0.000000   \n",
       "50%                     0.000000             4.000000               6.000000   \n",
       "75%                     0.000000            32.000000              19.000000   \n",
       "max                     0.110000           210.000000             143.000000   \n",
       "\n",
       "       lightly_active_minutes  sedentary_minutes     calories   total_mins  \\\n",
       "count              940.000000         940.000000   940.000000   940.000000   \n",
       "mean               192.812766         991.210638  2303.609574  1218.753191   \n",
       "std                109.174700         301.267437   718.166862   265.931767   \n",
       "min                  0.000000           0.000000     0.000000     2.000000   \n",
       "25%                127.000000         729.750000  1828.500000   989.750000   \n",
       "50%                199.000000        1057.500000  2134.000000  1440.000000   \n",
       "75%                264.000000        1229.500000  2793.250000  1440.000000   \n",
       "max                518.000000        1440.000000  4900.000000  1440.000000   \n",
       "\n",
       "       total_hours  \n",
       "count   940.000000  \n",
       "mean     20.313830  \n",
       "std       4.437283  \n",
       "min       0.000000  \n",
       "25%      16.000000  \n",
       "50%      24.000000  \n",
       "75%      24.000000  \n",
       "max      24.000000  "
      ]
     },
     "execution_count": 26,
     "metadata": {},
     "output_type": "execute_result"
    }
   ],
   "source": [
    "activity.describe()"
   ]
  },
  {
   "cell_type": "code",
   "execution_count": 27,
   "metadata": {},
   "outputs": [
    {
     "name": "stdout",
     "output_type": "stream",
     "text": [
      "total_distance            5.489702\n",
      "total_steps            7637.910638\n",
      "calories               2303.609574\n",
      "very_active_minutes      21.164894\n",
      "sedentary_minutes       991.210638\n",
      "dtype: float64\n"
     ]
    }
   ],
   "source": [
    "#daily activity statistics\n",
    "print(activity[['total_distance', 'total_steps', 'calories','very_active_minutes','sedentary_minutes']].mean())"
   ]
  },
  {
   "cell_type": "markdown",
   "metadata": {},
   "source": [
    "1. We can see that users logged an average of 7637 steps/5.48km which is not adequate. The CDC recommends atleast 10000 steps daily to be considered active or fit. \n",
    "2. Sedentary minutes account for majority of minutes. They account for 991 minutes which is over 16 hours. \n",
    "3. Average calories burned is 2303."
   ]
  },
  {
   "cell_type": "code",
   "execution_count": 28,
   "metadata": {},
   "outputs": [
    {
     "data": {
      "text/html": [
       "<div>\n",
       "<style scoped>\n",
       "    .dataframe tbody tr th:only-of-type {\n",
       "        vertical-align: middle;\n",
       "    }\n",
       "\n",
       "    .dataframe tbody tr th {\n",
       "        vertical-align: top;\n",
       "    }\n",
       "\n",
       "    .dataframe thead th {\n",
       "        text-align: right;\n",
       "    }\n",
       "</style>\n",
       "<table border=\"1\" class=\"dataframe\">\n",
       "  <thead>\n",
       "    <tr style=\"text-align: right;\">\n",
       "      <th></th>\n",
       "      <th>id</th>\n",
       "      <th>total_sleep_records</th>\n",
       "      <th>total_minutes_asleep</th>\n",
       "      <th>total_time_in_bed</th>\n",
       "      <th>total_sleep_hours</th>\n",
       "    </tr>\n",
       "  </thead>\n",
       "  <tbody>\n",
       "    <tr>\n",
       "      <th>count</th>\n",
       "      <td>4.100000e+02</td>\n",
       "      <td>410.000000</td>\n",
       "      <td>410.000000</td>\n",
       "      <td>410.000000</td>\n",
       "      <td>410.000000</td>\n",
       "    </tr>\n",
       "    <tr>\n",
       "      <th>mean</th>\n",
       "      <td>4.994963e+09</td>\n",
       "      <td>1.119512</td>\n",
       "      <td>419.173171</td>\n",
       "      <td>458.482927</td>\n",
       "      <td>6.990244</td>\n",
       "    </tr>\n",
       "    <tr>\n",
       "      <th>std</th>\n",
       "      <td>2.060863e+09</td>\n",
       "      <td>0.346636</td>\n",
       "      <td>118.635918</td>\n",
       "      <td>127.455140</td>\n",
       "      <td>1.990172</td>\n",
       "    </tr>\n",
       "    <tr>\n",
       "      <th>min</th>\n",
       "      <td>1.503960e+09</td>\n",
       "      <td>1.000000</td>\n",
       "      <td>58.000000</td>\n",
       "      <td>61.000000</td>\n",
       "      <td>1.000000</td>\n",
       "    </tr>\n",
       "    <tr>\n",
       "      <th>25%</th>\n",
       "      <td>3.977334e+09</td>\n",
       "      <td>1.000000</td>\n",
       "      <td>361.000000</td>\n",
       "      <td>403.750000</td>\n",
       "      <td>6.000000</td>\n",
       "    </tr>\n",
       "    <tr>\n",
       "      <th>50%</th>\n",
       "      <td>4.702922e+09</td>\n",
       "      <td>1.000000</td>\n",
       "      <td>432.500000</td>\n",
       "      <td>463.000000</td>\n",
       "      <td>7.000000</td>\n",
       "    </tr>\n",
       "    <tr>\n",
       "      <th>75%</th>\n",
       "      <td>6.962181e+09</td>\n",
       "      <td>1.000000</td>\n",
       "      <td>490.000000</td>\n",
       "      <td>526.000000</td>\n",
       "      <td>8.000000</td>\n",
       "    </tr>\n",
       "    <tr>\n",
       "      <th>max</th>\n",
       "      <td>8.792010e+09</td>\n",
       "      <td>3.000000</td>\n",
       "      <td>796.000000</td>\n",
       "      <td>961.000000</td>\n",
       "      <td>13.000000</td>\n",
       "    </tr>\n",
       "  </tbody>\n",
       "</table>\n",
       "</div>"
      ],
      "text/plain": [
       "                 id  total_sleep_records  total_minutes_asleep  \\\n",
       "count  4.100000e+02           410.000000            410.000000   \n",
       "mean   4.994963e+09             1.119512            419.173171   \n",
       "std    2.060863e+09             0.346636            118.635918   \n",
       "min    1.503960e+09             1.000000             58.000000   \n",
       "25%    3.977334e+09             1.000000            361.000000   \n",
       "50%    4.702922e+09             1.000000            432.500000   \n",
       "75%    6.962181e+09             1.000000            490.000000   \n",
       "max    8.792010e+09             3.000000            796.000000   \n",
       "\n",
       "       total_time_in_bed  total_sleep_hours  \n",
       "count         410.000000         410.000000  \n",
       "mean          458.482927           6.990244  \n",
       "std           127.455140           1.990172  \n",
       "min            61.000000           1.000000  \n",
       "25%           403.750000           6.000000  \n",
       "50%           463.000000           7.000000  \n",
       "75%           526.000000           8.000000  \n",
       "max           961.000000          13.000000  "
      ]
     },
     "execution_count": 28,
     "metadata": {},
     "output_type": "execute_result"
    }
   ],
   "source": [
    "sleep.describe()"
   ]
  },
  {
   "cell_type": "code",
   "execution_count": 29,
   "metadata": {},
   "outputs": [
    {
     "name": "stdout",
     "output_type": "stream",
     "text": [
      "total_minutes_asleep    419.173171\n",
      "total_time_in_bed       458.482927\n",
      "dtype: float64\n",
      "The ratio of average time asleep to average time in bed is: 0.9142612433369862\n"
     ]
    }
   ],
   "source": [
    "print(sleep[['total_minutes_asleep', 'total_time_in_bed']].mean())\n",
    "\n",
    "print('The ratio of average time asleep to average time in bed is: '+str(sleep['total_minutes_asleep'].mean()/sleep['total_time_in_bed'].mean()))"
   ]
  },
  {
   "cell_type": "markdown",
   "metadata": {},
   "source": [
    "Users spend 91% of their time in bed sleeping. "
   ]
  },
  {
   "cell_type": "markdown",
   "metadata": {},
   "source": [
    "#### Since I had some issues ordering my categorical variable, I would like to write a function to order it. "
   ]
  },
  {
   "cell_type": "code",
   "execution_count": 30,
   "metadata": {},
   "outputs": [],
   "source": [
    "def cat_var_mapping():\n",
    "    mapping=pd.DataFrame({\n",
    "    'Day':['Monday', 'Tuesday', 'Wednesday','Thursday','Friday', 'Saturday', 'Sunday']\n",
    "    })\n",
    "    sort_mapping= mapping.reset_index().set_index('Day')\n",
    "    activity['day_num'] = activity['day_of_the_week'].map(sort_mapping['index'])\n",
    "    activity.sort_values(['day_num'], inplace=True)\n",
    "    activity.drop('day_num', inplace=True, axis=1)"
   ]
  },
  {
   "cell_type": "markdown",
   "metadata": {},
   "source": [
    "Now, I can call cat_var_mapping on my maps to order the day of the week. "
   ]
  },
  {
   "cell_type": "markdown",
   "metadata": {},
   "source": [
    "#### I'll start by examing the features of interest. "
   ]
  },
  {
   "cell_type": "code",
   "execution_count": 31,
   "metadata": {},
   "outputs": [
    {
     "data": {
      "image/png": "[encoded data removed]",
      "text/plain": [
       "<Figure size 576x360 with 1 Axes>"
      ]
     },
     "metadata": {
      "needs_background": "light"
     },
     "output_type": "display_data"
    }
   ],
   "source": [
    "# start with a standard-scaled plot\n",
    "binsize = 500\n",
    "bins = np.arange(0, activity['calories'].max()+binsize, binsize)\n",
    "\n",
    "plt.figure(figsize=[8, 5])\n",
    "plt.hist(data =activity, x = 'calories')\n",
    "plt.xlabel('Calories')\n",
    "plt.show()"
   ]
  },
  {
   "cell_type": "markdown",
   "metadata": {},
   "source": [
    "The histogram appears to have one clear center that much of the data clusters around. As you get away from this center(2500), there are fewer and fewer values. There also seems to be a few outliers but it could be due to certain factors like fasting, or binge-eating."
   ]
  },
  {
   "cell_type": "code",
   "execution_count": 32,
   "metadata": {},
   "outputs": [
    {
     "data": {
      "image/png": "[encoded data removed]",
      "text/plain": [
       "<Figure size 576x360 with 1 Axes>"
      ]
     },
     "metadata": {
      "needs_background": "light"
     },
     "output_type": "display_data"
    }
   ],
   "source": [
    "# start with a standard-scaled plot\n",
    "binsize = 500\n",
    "bins = np.arange(0, activity['total_distance'].max()+binsize, binsize)\n",
    "\n",
    "plt.figure(figsize=[8, 5])\n",
    "plt.hist(data =activity, x = 'total_distance')\n",
    "plt.xlabel('Total Distance')\n",
    "plt.show()"
   ]
  },
  {
   "cell_type": "code",
   "execution_count": 33,
   "metadata": {},
   "outputs": [
    {
     "data": {
      "image/png": "[encoded data removed]",
      "text/plain": [
       "<Figure size 576x360 with 1 Axes>"
      ]
     },
     "metadata": {
      "needs_background": "light"
     },
     "output_type": "display_data"
    }
   ],
   "source": [
    "# start with a standard-scaled plot\n",
    "binsize = 500\n",
    "bins = np.arange(0, activity['total_steps'].max()+binsize, binsize)\n",
    "\n",
    "plt.figure(figsize=[8, 5])\n",
    "plt.hist(data =activity, x = 'total_steps')\n",
    "plt.xlabel('Total Steps')\n",
    "plt.show()"
   ]
  },
  {
   "cell_type": "markdown",
   "metadata": {},
   "source": [
    "Total steps and total distance appear to be postivtly skewed to the right. This means that the data is generally clustered around shorter distances and smaller steps and as you move towards londer distances and more steps, there are fewer and fewer data.\n",
    "\n",
    " "
   ]
  },
  {
   "cell_type": "code",
   "execution_count": 34,
   "metadata": {},
   "outputs": [
    {
     "data": {
      "image/png": "[encoded data removed]",
      "text/plain": [
       "<Figure size 432x288 with 1 Axes>"
      ]
     },
     "metadata": {
      "needs_background": "light"
     },
     "output_type": "display_data"
    }
   ],
   "source": [
    "cat_var_mapping()\n",
    "sns.countplot(data = activity, x = 'day_of_the_week')\n",
    "plt.figsize = (8,8)\n",
    "plt.show()"
   ]
  },
  {
   "cell_type": "markdown",
   "metadata": {},
   "source": [
    "There are more device during the week than on the weekends. Plotting this against other variables might provide interesting insights. "
   ]
  },
  {
   "cell_type": "markdown",
   "metadata": {},
   "source": [
    "#### Question: How many hours do users spend in bed?"
   ]
  },
  {
   "cell_type": "code",
   "execution_count": 35,
   "metadata": {},
   "outputs": [
    {
     "data": {
      "image/png": "[encoded data removed]",
      "text/plain": [
       "<Figure size 1008x576 with 1 Axes>"
      ]
     },
     "metadata": {
      "needs_background": "light"
     },
     "output_type": "display_data"
    }
   ],
   "source": [
    "sleep['total_hours_in_bed']=round(sleep[['total_time_in_bed']]/60)\n",
    "sleep[['total_hours_in_bed']].hist(figsize=(14,8));\n",
    "\n"
   ]
  },
  {
   "cell_type": "markdown",
   "metadata": {},
   "source": [
    "Observation- Majority of users stay in bed between 8-9 hours. "
   ]
  },
  {
   "cell_type": "markdown",
   "metadata": {},
   "source": [
    "#### Question: How many hours do users sleep?"
   ]
  },
  {
   "cell_type": "code",
   "execution_count": 36,
   "metadata": {},
   "outputs": [
    {
     "data": {
      "text/plain": [
       "array([[<AxesSubplot:title={'center':'total_sleep_hours'}>]], dtype=object)"
      ]
     },
     "execution_count": 36,
     "metadata": {},
     "output_type": "execute_result"
    },
    {
     "data": {
      "image/png": "[encoded data removed]",
      "text/plain": [
       "<Figure size 1008x576 with 1 Axes>"
      ]
     },
     "metadata": {
      "needs_background": "light"
     },
     "output_type": "display_data"
    }
   ],
   "source": [
    "sleep[['total_sleep_hours']].hist(figsize=(14,8))\n",
    "\n"
   ]
  },
  {
   "cell_type": "markdown",
   "metadata": {},
   "source": [
    "Observation- Majority of users sleep for 7 hours."
   ]
  },
  {
   "cell_type": "markdown",
   "metadata": {},
   "source": [
    "#### Question: Do users log in often?"
   ]
  },
  {
   "cell_type": "code",
   "execution_count": 37,
   "metadata": {},
   "outputs": [
    {
     "data": {
      "image/png": "[encoded data removed]",
      "text/plain": [
       "<Figure size 432x288 with 1 Axes>"
      ]
     },
     "metadata": {
      "needs_background": "light"
     },
     "output_type": "display_data"
    }
   ],
   "source": [
    "cat_var_mapping()\n",
    "plt.figure(figsize=(6,4))\n",
    "plt.hist(activity['day_of_the_week'], bins=7, width=0.7, edgecolor='black')\n",
    "plt.xlabel('Day of the week')\n",
    "plt.ylabel('Frequency')\n",
    "plt.title('Frequency of Users Across the week')\n",
    "plt.show()"
   ]
  },
  {
   "cell_type": "markdown",
   "metadata": {},
   "source": [
    "Observation- Users track their activity during the week more than weekends. This could be because they are more active on weekdays and could forget on the weekends. "
   ]
  },
  {
   "cell_type": "markdown",
   "metadata": {},
   "source": [
    "#### Question: Which day of the week records the most activity?"
   ]
  },
  {
   "cell_type": "code",
   "execution_count": 38,
   "metadata": {},
   "outputs": [
    {
     "data": {
      "image/png": "[encoded data removed]",
      "text/plain": [
       "<Figure size 432x288 with 1 Axes>"
      ]
     },
     "metadata": {
      "needs_background": "light"
     },
     "output_type": "display_data"
    }
   ],
   "source": [
    "cat_var_mapping()\n",
    "f, ax = plt.subplotsfigsize=(12,9)\n",
    "sns.barplot(data=activity, x='total_hours', y='day_of_the_week', label='Total', palette=['m','g'])\n",
    "plt.xlabel('Day of the week')\n",
    "plt.ylabel('Total Active Hours')\n",
    "plt.title('Activity of Users Across the week')\n",
    "sns.despine(offset=10, trim=True)"
   ]
  },
  {
   "cell_type": "markdown",
   "metadata": {},
   "source": [
    "Observation- Users are mostly active at the beginning of week and Fridays. "
   ]
  },
  {
   "cell_type": "markdown",
   "metadata": {},
   "source": [
    "#### Question: What day of the week do users burn more calories?"
   ]
  },
  {
   "cell_type": "code",
   "execution_count": 39,
   "metadata": {},
   "outputs": [
    {
     "data": {
      "image/png": "[encoded data removed]",
      "text/plain": [
       "<Figure size 720x576 with 1 Axes>"
      ]
     },
     "metadata": {
      "needs_background": "light"
     },
     "output_type": "display_data"
    }
   ],
   "source": [
    "cat_var_mapping()\n",
    "f, ax = plt.subplots(figsize=(10,8))\n",
    "sns.violinplot(data=activity, x='day_of_the_week', y='calories', palette=['m','g'])\n",
    "\n",
    "sns.despine(offset=10, trim=True)"
   ]
  },
  {
   "cell_type": "markdown",
   "metadata": {},
   "source": [
    "Observation- No significant difference. "
   ]
  },
  {
   "cell_type": "markdown",
   "metadata": {},
   "source": [
    "#### Question: How does Total _Active_Minutes affect Calories?"
   ]
  },
  {
   "cell_type": "code",
   "execution_count": 40,
   "metadata": {},
   "outputs": [
    {
     "data": {
      "image/png": "[encoded data removed]",
      "text/plain": [
       "<Figure size 720x360 with 1 Axes>"
      ]
     },
     "metadata": {
      "needs_background": "light"
     },
     "output_type": "display_data"
    }
   ],
   "source": [
    "\n",
    "f, ax = plt.subplots(figsize=(10,5))\n",
    "ax= sns.regplot(x='total_mins', y='calories', data=activity, color='darkblue')\n",
    "\n",
    "ax.set(xlabel='Total Minutes', ylabel='Calories', title='Total Active Minutes vs Calories');\n"
   ]
  },
  {
   "cell_type": "markdown",
   "metadata": {},
   "source": [
    "Observation- The plot shows that there is a high positive correlation between total active minutes and calories burned. It could mean that low active minutes will lead to less calories burned, and vice versa. "
   ]
  },
  {
   "cell_type": "markdown",
   "metadata": {},
   "source": [
    "#### Question: Do users burn calories while they sleep?"
   ]
  },
  {
   "cell_type": "code",
   "execution_count": 41,
   "metadata": {},
   "outputs": [
    {
     "data": {
      "text/html": [
       "<div>\n",
       "<style scoped>\n",
       "    .dataframe tbody tr th:only-of-type {\n",
       "        vertical-align: middle;\n",
       "    }\n",
       "\n",
       "    .dataframe tbody tr th {\n",
       "        vertical-align: top;\n",
       "    }\n",
       "\n",
       "    .dataframe thead th {\n",
       "        text-align: right;\n",
       "    }\n",
       "</style>\n",
       "<table border=\"1\" class=\"dataframe\">\n",
       "  <thead>\n",
       "    <tr style=\"text-align: right;\">\n",
       "      <th></th>\n",
       "      <th>id</th>\n",
       "      <th>date</th>\n",
       "      <th>total_steps</th>\n",
       "      <th>total_distance</th>\n",
       "      <th>very_active_distance</th>\n",
       "      <th>moderately_active_distance</th>\n",
       "      <th>light_active_distance</th>\n",
       "      <th>sedentary_active_distance</th>\n",
       "      <th>very_active_minutes</th>\n",
       "      <th>fairly_active_minutes</th>\n",
       "      <th>...</th>\n",
       "      <th>total_mins</th>\n",
       "      <th>total_hours</th>\n",
       "      <th>id</th>\n",
       "      <th>sleep_date</th>\n",
       "      <th>total_sleep_records</th>\n",
       "      <th>total_minutes_asleep</th>\n",
       "      <th>total_time_in_bed</th>\n",
       "      <th>sleep_day</th>\n",
       "      <th>total_sleep_hours</th>\n",
       "      <th>total_hours_in_bed</th>\n",
       "    </tr>\n",
       "  </thead>\n",
       "  <tbody>\n",
       "    <tr>\n",
       "      <th>845</th>\n",
       "      <td>8378563200</td>\n",
       "      <td>2016-05-09</td>\n",
       "      <td>8382</td>\n",
       "      <td>6.65</td>\n",
       "      <td>1.27</td>\n",
       "      <td>0.66</td>\n",
       "      <td>4.72</td>\n",
       "      <td>0.0</td>\n",
       "      <td>71</td>\n",
       "      <td>13</td>\n",
       "      <td>...</td>\n",
       "      <td>1027</td>\n",
       "      <td>17.0</td>\n",
       "      <td>NaN</td>\n",
       "      <td>NaT</td>\n",
       "      <td>NaN</td>\n",
       "      <td>NaN</td>\n",
       "      <td>NaN</td>\n",
       "      <td>NaN</td>\n",
       "      <td>NaN</td>\n",
       "      <td>NaN</td>\n",
       "    </tr>\n",
       "    <tr>\n",
       "      <th>674</th>\n",
       "      <td>6775888955</td>\n",
       "      <td>2016-05-02</td>\n",
       "      <td>0</td>\n",
       "      <td>0.00</td>\n",
       "      <td>0.00</td>\n",
       "      <td>0.00</td>\n",
       "      <td>0.00</td>\n",
       "      <td>0.0</td>\n",
       "      <td>0</td>\n",
       "      <td>0</td>\n",
       "      <td>...</td>\n",
       "      <td>1440</td>\n",
       "      <td>24.0</td>\n",
       "      <td>NaN</td>\n",
       "      <td>NaT</td>\n",
       "      <td>NaN</td>\n",
       "      <td>NaN</td>\n",
       "      <td>NaN</td>\n",
       "      <td>NaN</td>\n",
       "      <td>NaN</td>\n",
       "      <td>NaN</td>\n",
       "    </tr>\n",
       "    <tr>\n",
       "      <th>449</th>\n",
       "      <td>4445114986</td>\n",
       "      <td>2016-04-18</td>\n",
       "      <td>6155</td>\n",
       "      <td>4.24</td>\n",
       "      <td>2.00</td>\n",
       "      <td>0.29</td>\n",
       "      <td>1.95</td>\n",
       "      <td>0.0</td>\n",
       "      <td>25</td>\n",
       "      <td>6</td>\n",
       "      <td>...</td>\n",
       "      <td>1440</td>\n",
       "      <td>24.0</td>\n",
       "      <td>NaN</td>\n",
       "      <td>NaT</td>\n",
       "      <td>NaN</td>\n",
       "      <td>NaN</td>\n",
       "      <td>NaN</td>\n",
       "      <td>NaN</td>\n",
       "      <td>NaN</td>\n",
       "      <td>NaN</td>\n",
       "    </tr>\n",
       "  </tbody>\n",
       "</table>\n",
       "<p>3 rows × 24 columns</p>\n",
       "</div>"
      ],
      "text/plain": [
       "             id       date  total_steps  total_distance  very_active_distance  \\\n",
       "845  8378563200 2016-05-09         8382            6.65                  1.27   \n",
       "674  6775888955 2016-05-02            0            0.00                  0.00   \n",
       "449  4445114986 2016-04-18         6155            4.24                  2.00   \n",
       "\n",
       "     moderately_active_distance  light_active_distance  \\\n",
       "845                        0.66                   4.72   \n",
       "674                        0.00                   0.00   \n",
       "449                        0.29                   1.95   \n",
       "\n",
       "     sedentary_active_distance  very_active_minutes  fairly_active_minutes  \\\n",
       "845                        0.0                   71                     13   \n",
       "674                        0.0                    0                      0   \n",
       "449                        0.0                   25                      6   \n",
       "\n",
       "     ...  total_mins  total_hours  id sleep_date  total_sleep_records  \\\n",
       "845  ...        1027         17.0 NaN        NaT                  NaN   \n",
       "674  ...        1440         24.0 NaN        NaT                  NaN   \n",
       "449  ...        1440         24.0 NaN        NaT                  NaN   \n",
       "\n",
       "     total_minutes_asleep  total_time_in_bed sleep_day  total_sleep_hours  \\\n",
       "845                   NaN                NaN       NaN                NaN   \n",
       "674                   NaN                NaN       NaN                NaN   \n",
       "449                   NaN                NaN       NaN                NaN   \n",
       "\n",
       "     total_hours_in_bed  \n",
       "845                 NaN  \n",
       "674                 NaN  \n",
       "449                 NaN  \n",
       "\n",
       "[3 rows x 24 columns]"
      ]
     },
     "execution_count": 41,
     "metadata": {},
     "output_type": "execute_result"
    }
   ],
   "source": [
    "activity_sleep=pd.concat([activity, sleep], axis=1)\n",
    "activity_sleep.head(3)"
   ]
  },
  {
   "cell_type": "code",
   "execution_count": 42,
   "metadata": {},
   "outputs": [
    {
     "data": {
      "image/png": "[encoded data removed]",
      "text/plain": [
       "<Figure size 720x360 with 1 Axes>"
      ]
     },
     "metadata": {
      "needs_background": "light"
     },
     "output_type": "display_data"
    }
   ],
   "source": [
    "f, ax = plt.subplots(figsize=(10,5))\n",
    "ax= sns.regplot(x='total_minutes_asleep', y='calories', data=activity_sleep, color='green')\n",
    "\n",
    "ax.set(xlabel='Total Minutes Asleep', ylabel='Calories', title='Total Minutes Asleep vs Calories');\n",
    "\n",
    "\n"
   ]
  },
  {
   "cell_type": "markdown",
   "metadata": {},
   "source": [
    "Observation- This plot shows that there is little to no correlation to the total minutes asleep and calories burned.This means that an increase or decrease in on variable will not likely have an effect on the other. "
   ]
  },
  {
   "cell_type": "markdown",
   "metadata": {},
   "source": [
    "#### Question: Does activity influence sleep or vice-versa?"
   ]
  },
  {
   "cell_type": "code",
   "execution_count": 43,
   "metadata": {},
   "outputs": [
    {
     "data": {
      "image/png": "[encoded data removed]",
      "text/plain": [
       "<Figure size 720x360 with 1 Axes>"
      ]
     },
     "metadata": {
      "needs_background": "light"
     },
     "output_type": "display_data"
    }
   ],
   "source": [
    "f, ax = plt.subplots(figsize=(10,5))\n",
    "ax= sns.regplot(x='total_mins', y='total_minutes_asleep', data=activity_sleep, color='green')\n",
    "\n",
    "ax.set(xlabel='Total Active Minutes', ylabel='Total Minutes Asleep', title='Total Minutes Active vs Total Minutes Asleep');\n",
    "\n",
    "\n"
   ]
  },
  {
   "cell_type": "markdown",
   "metadata": {},
   "source": [
    "Observation- This plot shows that there is little to no correlation betwen the two variables. "
   ]
  },
  {
   "cell_type": "markdown",
   "metadata": {},
   "source": [
    "#### Question: Are any other features affected by others?"
   ]
  },
  {
   "cell_type": "code",
   "execution_count": 44,
   "metadata": {},
   "outputs": [
    {
     "name": "stdout",
     "output_type": "stream",
     "text": [
      "                                  id  total_steps  total_distance  \\\n",
      "id                          1.000000     0.185721        0.241000   \n",
      "total_steps                 0.185721     1.000000        0.985369   \n",
      "total_distance              0.241000     0.985369        1.000000   \n",
      "very_active_distance        0.308691     0.740115        0.794582   \n",
      "moderately_active_distance  0.026665     0.507105        0.470758   \n",
      "light_active_distance       0.019629     0.692208        0.662002   \n",
      "sedentary_active_distance  -0.015698     0.070505        0.082389   \n",
      "very_active_minutes         0.303608     0.667079        0.681297   \n",
      "fairly_active_minutes       0.051158     0.498693        0.462899   \n",
      "lightly_active_minutes     -0.098754     0.569600        0.516300   \n",
      "sedentary_minutes          -0.043319    -0.327484       -0.288094   \n",
      "calories                    0.396671     0.591568        0.644962   \n",
      "total_mins                 -0.048274    -0.017285        0.004523   \n",
      "total_hours                -0.048140    -0.018152        0.003513   \n",
      "\n",
      "                            very_active_distance  moderately_active_distance  \\\n",
      "id                                      0.308691                    0.026665   \n",
      "total_steps                             0.740115                    0.507105   \n",
      "total_distance                          0.794582                    0.470758   \n",
      "very_active_distance                    1.000000                    0.192986   \n",
      "moderately_active_distance              0.192986                    1.000000   \n",
      "light_active_distance                   0.157669                    0.237847   \n",
      "sedentary_active_distance               0.046117                    0.005793   \n",
      "very_active_minutes                     0.826681                    0.225464   \n",
      "fairly_active_minutes                   0.211730                    0.946934   \n",
      "lightly_active_minutes                  0.059845                    0.162092   \n",
      "sedentary_minutes                      -0.061754                   -0.221436   \n",
      "calories                                0.491959                    0.216790   \n",
      "total_mins                              0.072625                   -0.085297   \n",
      "total_hours                             0.070989                   -0.085949   \n",
      "\n",
      "                            light_active_distance  sedentary_active_distance  \\\n",
      "id                                       0.019629                  -0.015698   \n",
      "total_steps                              0.692208                   0.070505   \n",
      "total_distance                           0.662002                   0.082389   \n",
      "very_active_distance                     0.157669                   0.046117   \n",
      "moderately_active_distance               0.237847                   0.005793   \n",
      "light_active_distance                    1.000000                   0.099503   \n",
      "sedentary_active_distance                0.099503                   1.000000   \n",
      "very_active_minutes                      0.154966                   0.008258   \n",
      "fairly_active_minutes                    0.220129                  -0.022361   \n",
      "lightly_active_minutes                   0.885697                   0.124185   \n",
      "sedentary_minutes                       -0.413552                   0.035475   \n",
      "calories                                 0.466917                   0.043652   \n",
      "total_mins                              -0.069207                   0.090510   \n",
      "total_hours                             -0.068906                   0.090697   \n",
      "\n",
      "                            very_active_minutes  fairly_active_minutes  \\\n",
      "id                                     0.303608               0.051158   \n",
      "total_steps                            0.667079               0.498693   \n",
      "total_distance                         0.681297               0.462899   \n",
      "very_active_distance                   0.826681               0.211730   \n",
      "moderately_active_distance             0.225464               0.946934   \n",
      "light_active_distance                  0.154966               0.220129   \n",
      "sedentary_active_distance              0.008258              -0.022361   \n",
      "very_active_minutes                    1.000000               0.312420   \n",
      "fairly_active_minutes                  0.312420               1.000000   \n",
      "lightly_active_minutes                 0.051926               0.148820   \n",
      "sedentary_minutes                     -0.164671              -0.237446   \n",
      "calories                               0.615838               0.297623   \n",
      "total_mins                            -0.018244              -0.094155   \n",
      "total_hours                           -0.021064              -0.094941   \n",
      "\n",
      "                            lightly_active_minutes  sedentary_minutes  \\\n",
      "id                                       -0.098754          -0.043319   \n",
      "total_steps                               0.569600          -0.327484   \n",
      "total_distance                            0.516300          -0.288094   \n",
      "very_active_distance                      0.059845          -0.061754   \n",
      "moderately_active_distance                0.162092          -0.221436   \n",
      "light_active_distance                     0.885697          -0.413552   \n",
      "sedentary_active_distance                 0.124185           0.035475   \n",
      "very_active_minutes                       0.051926          -0.164671   \n",
      "fairly_active_minutes                     0.148820          -0.237446   \n",
      "lightly_active_minutes                    1.000000          -0.437104   \n",
      "sedentary_minutes                        -0.437104           1.000000   \n",
      "calories                                  0.286718          -0.106973   \n",
      "total_mins                               -0.067049           0.915243   \n",
      "total_hours                              -0.066640           0.914539   \n",
      "\n",
      "                            calories  total_mins  total_hours  \n",
      "id                          0.396671   -0.048274    -0.048140  \n",
      "total_steps                 0.591568   -0.017285    -0.018152  \n",
      "total_distance              0.644962    0.004523     0.003513  \n",
      "very_active_distance        0.491959    0.072625     0.070989  \n",
      "moderately_active_distance  0.216790   -0.085297    -0.085949  \n",
      "light_active_distance       0.466917   -0.069207    -0.068906  \n",
      "sedentary_active_distance   0.043652    0.090510     0.090697  \n",
      "very_active_minutes         0.615838   -0.018244    -0.021064  \n",
      "fairly_active_minutes       0.297623   -0.094155    -0.094941  \n",
      "lightly_active_minutes      0.286718   -0.067049    -0.066640  \n",
      "sedentary_minutes          -0.106973    0.915243     0.914539  \n",
      "calories                    1.000000    0.094951     0.093314  \n",
      "total_mins                  0.094951    1.000000     0.998963  \n",
      "total_hours                 0.093314    0.998963     1.000000  \n"
     ]
    },
    {
     "data": {
      "text/plain": [
       "<AxesSubplot:>"
      ]
     },
     "execution_count": 44,
     "metadata": {},
     "output_type": "execute_result"
    },
    {
     "data": {
      "image/png": "[encoded data removed]",
      "text/plain": [
       "<Figure size 792x648 with 2 Axes>"
      ]
     },
     "metadata": {
      "needs_background": "light"
     },
     "output_type": "display_data"
    }
   ],
   "source": [
    "print(activity.corr(method='pearson'))\n",
    "corr=activity.corr()\n",
    "mask=np.triu(np.ones_like(corr,dtype=bool))\n",
    "f, ax=plt.subplots(figsize =(11,9))\n",
    "cmap=sns.diverging_palette(230,20,as_cmap=True)\n",
    "sns.heatmap(corr,cmap=cmap, square=True, mask=mask, vmax=.3, center=0,linewidths=.5,cbar_kws={'shrink':.5})\n"
   ]
  },
  {
   "cell_type": "markdown",
   "metadata": {},
   "source": [
    "Observation\n",
    "- Calories & total distance- Calories and total distance are positively correlated which meand that the more distance a user is able to travel, the more calories burned. \n",
    "- Calories & very active minutes- Calories and active minutes are positvely correlated too. The more acive minutes, the more calories burned.\n",
    "- Calories & sedentary_active_minutes- Calories and sedentary active minutes appear to be negatively correlated. "
   ]
  },
  {
   "cell_type": "markdown",
   "metadata": {},
   "source": [
    "#### Question: What's the percentage of Sedentary users?"
   ]
  },
  {
   "cell_type": "code",
   "execution_count": 45,
   "metadata": {},
   "outputs": [
    {
     "data": {
      "image/png": "[encoded data removed]",
      "text/plain": [
       "<Figure size 1080x360 with 1 Axes>"
      ]
     },
     "metadata": {},
     "output_type": "display_data"
    }
   ],
   "source": [
    "very_active_minutes= activity['very_active_minutes'].sum()\n",
    "fairly_active_minutes= activity['fairly_active_minutes'].sum()\n",
    "lightly_active_minutes= activity['lightly_active_minutes'].sum()\n",
    "sedentary_minutes= activity['sedentary_minutes'].sum()\n",
    "# plotting the chart\n",
    "slices = [very_active_minutes, fairly_active_minutes, lightly_active_minutes, sedentary_minutes]\n",
    "labels=['Very active minutes', 'Fairly active minutes', 'Lightly active minutes','Sedentary minutes']\n",
    "colours=['cyan', 'goldenrod', 'darkgreen', 'slateblue']\n",
    "explode = [0,0,0,0.1]\n",
    "plt.figure(figsize=(15,5))\n",
    "plt.style.use('default')\n",
    "plt.pie(slices, labels=labels, colors=colours, wedgeprops={'edgecolor':'black'}, explode = explode, autopct=\"%1.1f%%\")\n",
    "plt.title('Percentage of Activity in Minutes')\n",
    "plt.tight_layout()\n",
    "plt.show()"
   ]
  },
  {
   "cell_type": "markdown",
   "metadata": {},
   "source": [
    "Observation- Sedentary activity accounts for  81% of the total activity in minutes which is a huge chunk of data. "
   ]
  },
  {
   "cell_type": "markdown",
   "metadata": {},
   "source": [
    "#### Question: Do users mostly log active or sedentary minutes?"
   ]
  },
  {
   "cell_type": "code",
   "execution_count": 46,
   "metadata": {},
   "outputs": [
    {
     "data": {
      "text/html": [
       "<div>\n",
       "<style scoped>\n",
       "    .dataframe tbody tr th:only-of-type {\n",
       "        vertical-align: middle;\n",
       "    }\n",
       "\n",
       "    .dataframe tbody tr th {\n",
       "        vertical-align: top;\n",
       "    }\n",
       "\n",
       "    .dataframe thead th {\n",
       "        text-align: right;\n",
       "    }\n",
       "</style>\n",
       "<table border=\"1\" class=\"dataframe\">\n",
       "  <thead>\n",
       "    <tr style=\"text-align: right;\">\n",
       "      <th></th>\n",
       "      <th>index</th>\n",
       "      <th>sedentary_minutes</th>\n",
       "      <th>lightly_active_minutes</th>\n",
       "      <th>very_active_minutes</th>\n",
       "      <th>fairly_active_minutes</th>\n",
       "    </tr>\n",
       "  </thead>\n",
       "  <tbody>\n",
       "    <tr>\n",
       "      <th>0</th>\n",
       "      <td>mean</td>\n",
       "      <td>991.210638</td>\n",
       "      <td>192.812766</td>\n",
       "      <td>21.164894</td>\n",
       "      <td>13.564894</td>\n",
       "    </tr>\n",
       "  </tbody>\n",
       "</table>\n",
       "</div>"
      ],
      "text/plain": [
       "  index  sedentary_minutes  lightly_active_minutes  very_active_minutes  \\\n",
       "0  mean         991.210638              192.812766            21.164894   \n",
       "\n",
       "   fairly_active_minutes  \n",
       "0              13.564894  "
      ]
     },
     "execution_count": 46,
     "metadata": {},
     "output_type": "execute_result"
    },
    {
     "data": {
      "image/png": "[encoded data removed]",
      "text/plain": [
       "<Figure size 1400x800 with 1 Axes>"
      ]
     },
     "metadata": {},
     "output_type": "display_data"
    }
   ],
   "source": [
    "activity_mean=activity.agg(\n",
    "    {'sedentary_minutes': ['mean'],'lightly_active_minutes': ['mean'], 'very_active_minutes': ['mean'], 'fairly_active_minutes': ['mean'] }).reset_index()\n",
    "plt.figure(figsize=(14,8))\n",
    "plt1 = sns.barplot(data= activity_mean, log=True)\n",
    "plt1.set_xticklabels(plt1.get_xticklabels(), rotation=45)\n",
    "plt1.set(xlabel='Level of Activeness', ylabel='Minutes',title='Average Activity')\n",
    "activity_mean"
   ]
  },
  {
   "cell_type": "markdown",
   "metadata": {},
   "source": [
    "Observation- Most of the minutes logged are sedentary minutes, followed by lightly active minutes. "
   ]
  },
  {
   "cell_type": "markdown",
   "metadata": {},
   "source": [
    "#### Question: Do users mostly log active or light distances?"
   ]
  },
  {
   "cell_type": "code",
   "execution_count": 47,
   "metadata": {},
   "outputs": [
    {
     "name": "stdout",
     "output_type": "stream",
     "text": [
      "Index(['id', 'date', 'total_steps', 'total_distance', 'very_active_distance',\n",
      "       'moderately_active_distance', 'light_active_distance',\n",
      "       'sedentary_active_distance', 'very_active_minutes',\n",
      "       'fairly_active_minutes', 'lightly_active_minutes', 'sedentary_minutes',\n",
      "       'calories', 'day_of_the_week', 'total_mins', 'total_hours'],\n",
      "      dtype='object')\n"
     ]
    }
   ],
   "source": [
    "print(activity.columns)"
   ]
  },
  {
   "cell_type": "code",
   "execution_count": 48,
   "metadata": {},
   "outputs": [
    {
     "data": {
      "text/html": [
       "<div>\n",
       "<style scoped>\n",
       "    .dataframe tbody tr th:only-of-type {\n",
       "        vertical-align: middle;\n",
       "    }\n",
       "\n",
       "    .dataframe tbody tr th {\n",
       "        vertical-align: top;\n",
       "    }\n",
       "\n",
       "    .dataframe thead th {\n",
       "        text-align: right;\n",
       "    }\n",
       "</style>\n",
       "<table border=\"1\" class=\"dataframe\">\n",
       "  <thead>\n",
       "    <tr style=\"text-align: right;\">\n",
       "      <th></th>\n",
       "      <th>index</th>\n",
       "      <th>very_active_distance</th>\n",
       "      <th>moderately_active_distance</th>\n",
       "      <th>light_active_distance</th>\n",
       "      <th>sedentary_active_distance</th>\n",
       "    </tr>\n",
       "  </thead>\n",
       "  <tbody>\n",
       "    <tr>\n",
       "      <th>0</th>\n",
       "      <td>mean</td>\n",
       "      <td>1.502681</td>\n",
       "      <td>0.567543</td>\n",
       "      <td>3.340819</td>\n",
       "      <td>0.001606</td>\n",
       "    </tr>\n",
       "  </tbody>\n",
       "</table>\n",
       "</div>"
      ],
      "text/plain": [
       "  index  very_active_distance  moderately_active_distance  \\\n",
       "0  mean              1.502681                    0.567543   \n",
       "\n",
       "   light_active_distance  sedentary_active_distance  \n",
       "0               3.340819                   0.001606  "
      ]
     },
     "execution_count": 48,
     "metadata": {},
     "output_type": "execute_result"
    },
    {
     "data": {
      "image/png": "[encoded data removed]",
      "text/plain": [
       "<Figure size 1500x500 with 1 Axes>"
      ]
     },
     "metadata": {},
     "output_type": "display_data"
    }
   ],
   "source": [
    "distance_mean=activity.agg(\n",
    "    {'very_active_distance': ['mean'], 'moderately_active_distance': ['mean'], 'light_active_distance': ['mean'], 'sedentary_active_distance': ['mean']}).reset_index()\n",
    "plt.figure(figsize=(15,5))\n",
    "plt1 = sns.barplot(data= distance_mean, log=True)\n",
    "plt1.set_xticklabels(plt1.get_xticklabels(), rotation=45)\n",
    "plt1.set(xlabel='Level of Distance', ylabel='Minutes',title='Average Distance Travelled')\n",
    "distance_mean"
   ]
  },
  {
   "cell_type": "markdown",
   "metadata": {},
   "source": [
    "Observation- Most of the distance tracked by the device is light. This shows that most of our users spend more time commuting short distances or running errands. "
   ]
  },
  {
   "cell_type": "markdown",
   "metadata": {},
   "source": [
    "#### Question: Is there any major change in activity levels and durations during the week? "
   ]
  },
  {
   "cell_type": "code",
   "execution_count": 49,
   "metadata": {},
   "outputs": [
    {
     "data": {
      "text/html": [
       "<div>\n",
       "<style scoped>\n",
       "    .dataframe tbody tr th:only-of-type {\n",
       "        vertical-align: middle;\n",
       "    }\n",
       "\n",
       "    .dataframe tbody tr th {\n",
       "        vertical-align: top;\n",
       "    }\n",
       "\n",
       "    .dataframe thead th {\n",
       "        text-align: right;\n",
       "    }\n",
       "</style>\n",
       "<table border=\"1\" class=\"dataframe\">\n",
       "  <thead>\n",
       "    <tr style=\"text-align: right;\">\n",
       "      <th></th>\n",
       "      <th>day_of_the_week</th>\n",
       "      <th>sedentary_minutes</th>\n",
       "      <th>lightly_active_minutes</th>\n",
       "      <th>fairly_active_minutes</th>\n",
       "      <th>very_active_minutes</th>\n",
       "    </tr>\n",
       "  </thead>\n",
       "  <tbody>\n",
       "    <tr>\n",
       "      <th>1</th>\n",
       "      <td>Monday</td>\n",
       "      <td>1027.941667</td>\n",
       "      <td>192.058333</td>\n",
       "      <td>14.000000</td>\n",
       "      <td>23.108333</td>\n",
       "    </tr>\n",
       "    <tr>\n",
       "      <th>5</th>\n",
       "      <td>Tuesday</td>\n",
       "      <td>1007.361842</td>\n",
       "      <td>197.342105</td>\n",
       "      <td>14.335526</td>\n",
       "      <td>22.953947</td>\n",
       "    </tr>\n",
       "    <tr>\n",
       "      <th>6</th>\n",
       "      <td>Wednesday</td>\n",
       "      <td>989.480000</td>\n",
       "      <td>189.853333</td>\n",
       "      <td>13.100000</td>\n",
       "      <td>20.780000</td>\n",
       "    </tr>\n",
       "    <tr>\n",
       "      <th>4</th>\n",
       "      <td>Thursday</td>\n",
       "      <td>961.993197</td>\n",
       "      <td>185.421769</td>\n",
       "      <td>11.959184</td>\n",
       "      <td>19.408163</td>\n",
       "    </tr>\n",
       "    <tr>\n",
       "      <th>0</th>\n",
       "      <td>Friday</td>\n",
       "      <td>1000.309524</td>\n",
       "      <td>204.198413</td>\n",
       "      <td>12.111111</td>\n",
       "      <td>20.055556</td>\n",
       "    </tr>\n",
       "    <tr>\n",
       "      <th>2</th>\n",
       "      <td>Saturday</td>\n",
       "      <td>964.282258</td>\n",
       "      <td>207.145161</td>\n",
       "      <td>15.201613</td>\n",
       "      <td>21.919355</td>\n",
       "    </tr>\n",
       "    <tr>\n",
       "      <th>3</th>\n",
       "      <td>Sunday</td>\n",
       "      <td>990.256198</td>\n",
       "      <td>173.975207</td>\n",
       "      <td>14.528926</td>\n",
       "      <td>19.983471</td>\n",
       "    </tr>\n",
       "  </tbody>\n",
       "</table>\n",
       "</div>"
      ],
      "text/plain": [
       "  day_of_the_week  sedentary_minutes  lightly_active_minutes  \\\n",
       "1          Monday        1027.941667              192.058333   \n",
       "5         Tuesday        1007.361842              197.342105   \n",
       "6       Wednesday         989.480000              189.853333   \n",
       "4        Thursday         961.993197              185.421769   \n",
       "0          Friday        1000.309524              204.198413   \n",
       "2        Saturday         964.282258              207.145161   \n",
       "3          Sunday         990.256198              173.975207   \n",
       "\n",
       "   fairly_active_minutes  very_active_minutes  \n",
       "1              14.000000            23.108333  \n",
       "5              14.335526            22.953947  \n",
       "6              13.100000            20.780000  \n",
       "4              11.959184            19.408163  \n",
       "0              12.111111            20.055556  \n",
       "2              15.201613            21.919355  \n",
       "3              14.528926            19.983471  "
      ]
     },
     "execution_count": 49,
     "metadata": {},
     "output_type": "execute_result"
    }
   ],
   "source": [
    "#to do this, we need to melt the activity levels according to the ordered day_of_the_week column\n",
    "ActivityTypebyDay= activity.groupby(['day_of_the_week']).agg({\n",
    "    'sedentary_minutes':'mean', 'lightly_active_minutes':'mean', 'fairly_active_minutes':'mean', 'very_active_minutes':'mean'}).reset_index()\n",
    "mapping=pd.DataFrame({\n",
    "    'Day':['Monday', 'Tuesday', 'Wednesday','Thursday','Friday', 'Saturday', 'Sunday']\n",
    "})\n",
    "sort_mapping= mapping.reset_index().set_index('Day')\n",
    "ActivityTypebyDay['day_num'] = ActivityTypebyDay['day_of_the_week'].map(sort_mapping['index'])\n",
    "ActivityTypebyDay.sort_values(['day_num'], inplace=True)\n",
    "ActivityTypebyDay.drop('day_num', inplace=True, axis=1)\n",
    "\n",
    "\n",
    "ActivityTypebyDay"
   ]
  },
  {
   "cell_type": "code",
   "execution_count": 50,
   "metadata": {},
   "outputs": [
    {
     "name": "stdout",
     "output_type": "stream",
     "text": [
      "   day_of_the_week          activity_level      minutes\n",
      "0           Monday       sedentary_minutes  1027.941667\n",
      "1          Tuesday       sedentary_minutes  1007.361842\n",
      "2        Wednesday       sedentary_minutes   989.480000\n",
      "3         Thursday       sedentary_minutes   961.993197\n",
      "4           Friday       sedentary_minutes  1000.309524\n",
      "5         Saturday       sedentary_minutes   964.282258\n",
      "6           Sunday       sedentary_minutes   990.256198\n",
      "7           Monday  lightly_active_minutes   192.058333\n",
      "8          Tuesday  lightly_active_minutes   197.342105\n",
      "9        Wednesday  lightly_active_minutes   189.853333\n",
      "10        Thursday  lightly_active_minutes   185.421769\n",
      "11          Friday  lightly_active_minutes   204.198413\n",
      "12        Saturday  lightly_active_minutes   207.145161\n",
      "13          Sunday  lightly_active_minutes   173.975207\n",
      "14          Monday   fairly_active_minutes    14.000000\n",
      "15         Tuesday   fairly_active_minutes    14.335526\n",
      "16       Wednesday   fairly_active_minutes    13.100000\n",
      "17        Thursday   fairly_active_minutes    11.959184\n",
      "18          Friday   fairly_active_minutes    12.111111\n",
      "19        Saturday   fairly_active_minutes    15.201613\n",
      "20          Sunday   fairly_active_minutes    14.528926\n",
      "21          Monday     very_active_minutes    23.108333\n",
      "22         Tuesday     very_active_minutes    22.953947\n",
      "23       Wednesday     very_active_minutes    20.780000\n",
      "24        Thursday     very_active_minutes    19.408163\n",
      "25          Friday     very_active_minutes    20.055556\n",
      "26        Saturday     very_active_minutes    21.919355\n",
      "27          Sunday     very_active_minutes    19.983471\n"
     ]
    }
   ],
   "source": [
    "melted_ActivityTypebyDay = ActivityTypebyDay.melt('day_of_the_week', var_name='activity_level', value_name='minutes')\n",
    "\n",
    "print(melted_ActivityTypebyDay)\n"
   ]
  },
  {
   "cell_type": "code",
   "execution_count": 51,
   "metadata": {},
   "outputs": [
    {
     "data": {
      "image/png": "[encoded data removed]",
      "text/plain": [
       "<Figure size 1500x500 with 1 Axes>"
      ]
     },
     "metadata": {},
     "output_type": "display_data"
    }
   ],
   "source": [
    "\n",
    "f, ax = plt.subplots(figsize=(15,5))\n",
    "ax= sns.barplot(data=melted_ActivityTypebyDay, x='day_of_the_week', y='minutes', hue='activity_level')\n",
    "ax.set_xticklabels(ax.get_xticklabels(), rotation=45)\n",
    "ax.set(xlabel='Weekday', ylabel='Minutes', title='Activity Level vs Weekday')\n",
    "sns.move_legend(ax, 'upper left', bbox_to_anchor=(1,1))\n",
    "sns.despine(offset=10, trim=True);\n"
   ]
  },
  {
   "cell_type": "markdown",
   "metadata": {},
   "source": [
    "Observation- There is a consistency seen in the activity levels and their durations. "
   ]
  },
  {
   "cell_type": "markdown",
   "metadata": {},
   "source": [
    "#### Question: Is there any change in distance types and distance during the week? "
   ]
  },
  {
   "cell_type": "code",
   "execution_count": 52,
   "metadata": {},
   "outputs": [
    {
     "data": {
      "text/html": [
       "<div>\n",
       "<style scoped>\n",
       "    .dataframe tbody tr th:only-of-type {\n",
       "        vertical-align: middle;\n",
       "    }\n",
       "\n",
       "    .dataframe tbody tr th {\n",
       "        vertical-align: top;\n",
       "    }\n",
       "\n",
       "    .dataframe thead th {\n",
       "        text-align: right;\n",
       "    }\n",
       "</style>\n",
       "<table border=\"1\" class=\"dataframe\">\n",
       "  <thead>\n",
       "    <tr style=\"text-align: right;\">\n",
       "      <th></th>\n",
       "      <th>day_of_the_week</th>\n",
       "      <th>light_active_distance</th>\n",
       "      <th>moderately_active_distance</th>\n",
       "      <th>very_active_distance</th>\n",
       "    </tr>\n",
       "  </thead>\n",
       "  <tbody>\n",
       "    <tr>\n",
       "      <th>1</th>\n",
       "      <td>Monday</td>\n",
       "      <td>3.363083</td>\n",
       "      <td>0.585833</td>\n",
       "      <td>1.537333</td>\n",
       "    </tr>\n",
       "    <tr>\n",
       "      <th>5</th>\n",
       "      <td>Tuesday</td>\n",
       "      <td>3.471053</td>\n",
       "      <td>0.593026</td>\n",
       "      <td>1.613289</td>\n",
       "    </tr>\n",
       "    <tr>\n",
       "      <th>6</th>\n",
       "      <td>Wednesday</td>\n",
       "      <td>3.256333</td>\n",
       "      <td>0.527067</td>\n",
       "      <td>1.633467</td>\n",
       "    </tr>\n",
       "    <tr>\n",
       "      <th>4</th>\n",
       "      <td>Thursday</td>\n",
       "      <td>3.283129</td>\n",
       "      <td>0.505170</td>\n",
       "      <td>1.390476</td>\n",
       "    </tr>\n",
       "    <tr>\n",
       "      <th>0</th>\n",
       "      <td>Friday</td>\n",
       "      <td>3.489127</td>\n",
       "      <td>0.483810</td>\n",
       "      <td>1.312937</td>\n",
       "    </tr>\n",
       "    <tr>\n",
       "      <th>2</th>\n",
       "      <td>Saturday</td>\n",
       "      <td>3.617177</td>\n",
       "      <td>0.677339</td>\n",
       "      <td>1.514597</td>\n",
       "    </tr>\n",
       "    <tr>\n",
       "      <th>3</th>\n",
       "      <td>Sunday</td>\n",
       "      <td>2.892314</td>\n",
       "      <td>0.618017</td>\n",
       "      <td>1.488926</td>\n",
       "    </tr>\n",
       "  </tbody>\n",
       "</table>\n",
       "</div>"
      ],
      "text/plain": [
       "  day_of_the_week  light_active_distance  moderately_active_distance  \\\n",
       "1          Monday               3.363083                    0.585833   \n",
       "5         Tuesday               3.471053                    0.593026   \n",
       "6       Wednesday               3.256333                    0.527067   \n",
       "4        Thursday               3.283129                    0.505170   \n",
       "0          Friday               3.489127                    0.483810   \n",
       "2        Saturday               3.617177                    0.677339   \n",
       "3          Sunday               2.892314                    0.618017   \n",
       "\n",
       "   very_active_distance  \n",
       "1              1.537333  \n",
       "5              1.613289  \n",
       "6              1.633467  \n",
       "4              1.390476  \n",
       "0              1.312937  \n",
       "2              1.514597  \n",
       "3              1.488926  "
      ]
     },
     "execution_count": 52,
     "metadata": {},
     "output_type": "execute_result"
    }
   ],
   "source": [
    "DistanceTravelledTypebyDay= activity.groupby(['day_of_the_week']).agg({\n",
    "    'light_active_distance':'mean', 'moderately_active_distance':'mean', 'very_active_distance':'mean'}).reset_index()\n",
    "\n",
    "DistanceTravelledTypebyDay['day_num'] = ActivityTypebyDay['day_of_the_week'].map(sort_mapping['index'])\n",
    "DistanceTravelledTypebyDay.sort_values(['day_num'], inplace=True)\n",
    "DistanceTravelledTypebyDay.drop('day_num', inplace=True, axis=1)\n",
    "\n",
    "\n",
    "DistanceTravelledTypebyDay"
   ]
  },
  {
   "cell_type": "code",
   "execution_count": 53,
   "metadata": {},
   "outputs": [
    {
     "name": "stdout",
     "output_type": "stream",
     "text": [
      "   day_of_the_week               distance_type  distance\n",
      "0           Monday       light_active_distance  3.363083\n",
      "1          Tuesday       light_active_distance  3.471053\n",
      "2        Wednesday       light_active_distance  3.256333\n",
      "3         Thursday       light_active_distance  3.283129\n",
      "4           Friday       light_active_distance  3.489127\n",
      "5         Saturday       light_active_distance  3.617177\n",
      "6           Sunday       light_active_distance  2.892314\n",
      "7           Monday  moderately_active_distance  0.585833\n",
      "8          Tuesday  moderately_active_distance  0.593026\n",
      "9        Wednesday  moderately_active_distance  0.527067\n",
      "10        Thursday  moderately_active_distance  0.505170\n",
      "11          Friday  moderately_active_distance  0.483810\n",
      "12        Saturday  moderately_active_distance  0.677339\n",
      "13          Sunday  moderately_active_distance  0.618017\n",
      "14          Monday        very_active_distance  1.537333\n",
      "15         Tuesday        very_active_distance  1.613289\n",
      "16       Wednesday        very_active_distance  1.633467\n",
      "17        Thursday        very_active_distance  1.390476\n",
      "18          Friday        very_active_distance  1.312937\n",
      "19        Saturday        very_active_distance  1.514597\n",
      "20          Sunday        very_active_distance  1.488926\n"
     ]
    }
   ],
   "source": [
    "melted_DistanceTravelledTypebyDay = DistanceTravelledTypebyDay.melt('day_of_the_week', var_name='distance_type', value_name='distance')\n",
    "\n",
    "print(melted_DistanceTravelledTypebyDay)\n"
   ]
  },
  {
   "cell_type": "code",
   "execution_count": 54,
   "metadata": {},
   "outputs": [
    {
     "data": {
      "image/png": "[encoded data removed]",
      "text/plain": [
       "<Figure size 1500x500 with 1 Axes>"
      ]
     },
     "metadata": {},
     "output_type": "display_data"
    }
   ],
   "source": [
    "f, ax = plt.subplots(figsize=(15,5))\n",
    "ax= sns.barplot(data=melted_DistanceTravelledTypebyDay, x='day_of_the_week', y='distance', hue='distance_type')\n",
    "ax.set_xticklabels(ax.get_xticklabels(), rotation=45)\n",
    "ax.set(xlabel='Weekday', ylabel='Distance', title='Distance Type Travelled vs Weekday')\n",
    "sns.move_legend(ax, 'upper left', bbox_to_anchor=(1,1))\n",
    "sns.despine(offset=10, trim=True);\n"
   ]
  },
  {
   "cell_type": "markdown",
   "metadata": {},
   "source": [
    "Observation- There is a consistency seen in the distance types and their values. "
   ]
  },
  {
   "cell_type": "markdown",
   "metadata": {},
   "source": [
    "### Conclusions\n",
    "\n",
    "- Most of the the users are sedentary users(81%). Obviously, they do not make use of the smart device to meet fitness goals. \n",
    "- Most of our users do not travel long distance. They probably only commute to/from work. \n",
    "- Users do not take enough daily steps to be considered 'fit.'\n",
    "- Users probably do not understand how features like sleep and calories can affect their health. \n"
   ]
  },
  {
   "cell_type": "markdown",
   "metadata": {},
   "source": [
    "### Recommendations\n",
    "\n",
    "- Help the users understand what it means to be fit. Connect them to the benefits of fitness then explain how their activities with our devices can help them reach there. \n",
    "- Help them understand how to use the app properly. \n",
    "- Create challenges that increase activity during weekends. \n",
    "- Send reminders whenever the app has been idle. \n",
    "- Organize groups of women and create activities that connect them to the vision of the brand. \n",
    "\n"
   ]
  },
  {
   "cell_type": "code",
   "execution_count": 55,
   "metadata": {},
   "outputs": [],
   "source": [
    "# save the data\n",
    "activity.to_pickle('cleaned_activity.pkl')\n",
    "sleep.to_pickle('cleaned_sleep.pkl')"
   ]
  }
 ],
 "metadata": {
  "kernelspec": {
   "display_name": "Python 3 (ipykernel)",
   "language": "python",
   "name": "python3"
  },
  "language_info": {
   "codemirror_mode": {
    "name": "ipython",
    "version": 3
   },
   "file_extension": ".py",
   "mimetype": "text/x-python",
   "name": "python",
   "nbconvert_exporter": "python",
   "pygments_lexer": "ipython3",
   "version": "3.9.12"
  },
  "vscode": {
   "interpreter": {
    "hash": "263930470851f494f0ed2879c35b57985588df20f9e529b86e97dd5eb9ddc466"
   }
  }
 },
 "nbformat": 4,
 "nbformat_minor": 2
}
